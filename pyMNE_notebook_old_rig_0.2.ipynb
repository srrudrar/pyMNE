{
 "cells": [
  {
   "cell_type": "code",
   "execution_count": 23,
   "metadata": {},
   "outputs": [
    {
     "name": "stdout",
     "output_type": "stream",
     "text": [
      "Populating the interactive namespace from numpy and matplotlib\n"
     ]
    },
    {
     "name": "stderr",
     "output_type": "stream",
     "text": [
      "/home/srrudrar/anaconda3/envs/tensorflow2/lib/python3.7/site-packages/IPython/core/magics/pylab.py:160: UserWarning: pylab import has clobbered these variables: ['interactive', 'f', 'rate']\n",
      "`%matplotlib` prevents importing * from pylab and numpy\n",
      "  \"\\n`%matplotlib` prevents importing * from pylab and numpy\"\n"
     ]
    }
   ],
   "source": [
    "import sys\n",
    "from ephys import rasters, core, events\n",
    "import matplotlib.pyplot as plt\n",
    "import numpy as np\n",
    "import math\n",
    "%pylab inline\n",
    "#reload(rasters)\n",
    "import numpy.matlib as matlib"
   ]
  },
  {
   "cell_type": "code",
   "execution_count": 24,
   "metadata": {},
   "outputs": [],
   "source": [
    "from ephys import core, events, rasters\n",
    "import numpy as np\n",
    "import matplotlib.pyplot as plt\n",
    "from oe_pipeline import mdaio\n",
    "from importlib import reload"
   ]
  },
  {
   "cell_type": "code",
   "execution_count": 25,
   "metadata": {},
   "outputs": [],
   "source": [
    "import pyMNE_functions as func"
   ]
  },
  {
   "cell_type": "code",
   "execution_count": 26,
   "metadata": {},
   "outputs": [
    {
     "name": "stdout",
     "output_type": "stream",
     "text": [
      "     codes  recording                         text  time_samples\n",
      "0      244          0                 b'13.326999'         80847\n",
      "1        1          0  b'm_211_s_25_song_60sec_01'         80847\n",
      "2      244          0                 b'78.207749'       1378462\n",
      "3        1          0                 b'G124-1 -1'       1378462\n",
      "4      244          0                b'148.965199'       2793611\n",
      "..     ...        ...                          ...           ...\n",
      "195      1          0                b'G107-17_01'     138689118\n",
      "196    244          0               b'7022.003099'     140254369\n",
      "197      1          0               b'165_s_02_01'     140254369\n",
      "198    244          0               b'7100.174699'     141817801\n",
      "199      1          0                 b'G124-1 -1'     141817801\n",
      "\n",
      "[200 rows x 4 columns]\n"
     ]
    }
   ],
   "source": [
    "#block_path = '/mnt/cube/nyoni-raw/test_data/201901300906-B970-block-9-AP-1250-ML-750-Z-1750'\n",
    "#block_path = '/mnt/cube/mturvz/analysis/sorted_experiments/0227/B1146/blocks/201902271608-B1146-block-2-AP-2300-ML-400-Z-1550/2019-02-27_16-08-48'\n",
    "#block_path = '/mnt/cube/Nasim/1_Receptive Field_MNE/2_B952/B952_2_Pen01_Lft_AP750_ML1750__Site01_Z1500__B952_cat_P01_S01_2'\n",
    "block_path = '/mnt/cube/srrudrar/mansort01/Pen01_Lft_AP750_ML1750__Site01_Z1100__B952_cat_P01_S01_1'\n",
    " \n",
    "\n",
    "reload(events)\n",
    "spikes = core.load_spikes(block_path)\n",
    "stims = core.load_events(block_path, 'Stimulus')\n",
    "print(stims)\n",
    "trials = events.load_trials(block_path)\n",
    "fs = core.load_fs(block_path)\n",
    "clusters = core.load_clusters(block_path)\n",
    "#clusters['quality'] = ['good'] * 43"
   ]
  },
  {
   "cell_type": "code",
   "execution_count": 27,
   "metadata": {},
   "outputs": [
    {
     "name": "stdout",
     "output_type": "stream",
     "text": [
      "    recording  time_samples                  stimulus  stimulus_end  response  \\\n",
      "0           0         80152  m_211_s_25_song_60sec_01       1280152       NaN   \n",
      "1           0       1378271                 G124-1 -1       2715450       NaN   \n",
      "2           0       2793056                 G124-1 -1       4130235       NaN   \n",
      "3           0       4233521               165_s_02_01       5714172       NaN   \n",
      "4           0       5798394               165_s_02_01       7279045       NaN   \n",
      "..        ...           ...                       ...           ...       ...   \n",
      "95          0     136106152            m_497_17_s1 -1     137306152       NaN   \n",
      "96          0     137404286  m_211_s_25_song_60sec_01     138604286       NaN   \n",
      "97          0     138688825                G107-17_01     140134847       NaN   \n",
      "98          0     140253448               165_s_02_01     141734099       NaN   \n",
      "99          0     141817593                 G124-1 -1     143154772       NaN   \n",
      "\n",
      "    response_time  consequence  correct                   datetime  correction  \n",
      "0             NaN          NaN      NaN 2017-06-16 13:55:56.292247       False  \n",
      "1             NaN          NaN      NaN 2017-06-16 13:57:01.198197       False  \n",
      "2             NaN          NaN      NaN 2017-06-16 13:58:11.937447       False  \n",
      "3             NaN          NaN      NaN 2017-06-16 13:59:23.960697       False  \n",
      "4             NaN          NaN      NaN 2017-06-16 14:00:42.204347       False  \n",
      "..            ...          ...      ...                        ...         ...  \n",
      "95            NaN          NaN      NaN 2017-06-16 15:49:17.592247       False  \n",
      "96            NaN          NaN      NaN 2017-06-16 15:50:22.498947       False  \n",
      "97            NaN          NaN      NaN 2017-06-16 15:51:26.725897       False  \n",
      "98            NaN          NaN      NaN 2017-06-16 15:52:44.957047       False  \n",
      "99            NaN          NaN      NaN 2017-06-16 15:54:03.164297       False  \n",
      "\n",
      "[100 rows x 10 columns]\n"
     ]
    }
   ],
   "source": [
    "print(trials)"
   ]
  },
  {
   "cell_type": "code",
   "execution_count": 28,
   "metadata": {},
   "outputs": [],
   "source": [
    "stims = trials['stimulus'].unique()\n",
    "nstims = len(stims)"
   ]
  },
  {
   "cell_type": "code",
   "execution_count": 29,
   "metadata": {},
   "outputs": [
    {
     "data": {
      "text/plain": [
       "array(['m_211_s_25_song_60sec_01', 'G124-1 -1', '165_s_02_01',\n",
       "       'm_497_17_s1 -1', 'G107-17_01'], dtype=object)"
      ]
     },
     "execution_count": 29,
     "metadata": {},
     "output_type": "execute_result"
    }
   ],
   "source": [
    "stims"
   ]
  },
  {
   "cell_type": "markdown",
   "metadata": {},
   "source": [
    "# Get rasters"
   ]
  },
  {
   "cell_type": "code",
   "execution_count": 30,
   "metadata": {},
   "outputs": [],
   "source": [
    "def plot_raster_cell_stim(spikes, trials, clusterID,\n",
    "                          stim, period, rec, fs, ax=None, stim_ref='stim', **kwargs):\n",
    "    '''\n",
    "    Plots a spike raster for a single cell and stimulus\n",
    "    Parameters\n",
    "    ------\n",
    "    spikes : pandas dataframe\n",
    "        spike dataframe from core\n",
    "    trials : pandas dataframe\n",
    "        trials dataframe from events\n",
    "    clusterID : int\n",
    "        ID number of the cluster you wish to make the raster for\n",
    "    stim : str\n",
    "        Name of the stimulus you wish to plot cluster's activity for\n",
    "    period : list of floats\n",
    "        Time window for the raster:\n",
    "        [Seconds_pre_stimulus_onset, Seconds_post_stimulus_end]\n",
    "    rec : int\n",
    "        Recording ID\n",
    "    fs : float\n",
    "        Sampling rate\n",
    "    plot_params : dict\n",
    "        Drawing parameters:\n",
    "        'spike_linewidth' - linewidth of ticks for spikes\n",
    "        'tick_linewidth' - linewidth of ticks for event markers\n",
    "        'spike_color' - color of spike ticks\n",
    "        'tick_color' - color of event ticks\n",
    "    ax : Matplotlib axes handle, optional\n",
    "        Axes on which to produce the raster.  Default is to use gca\n",
    "    kwargs :\n",
    "        keyword arguments are passed to the do_raster method\n",
    "    '''\n",
    "    from ephys.spiketrains import get_spiketrain\n",
    "    stim_trials = trials[trials['stimulus'] == stim]\n",
    "    ntrials = len(stim_trials)\n",
    "    stim_starts = stim_trials['time_samples'].values\n",
    "    stim_ends = stim_trials['stimulus_end'].values\n",
    "    stim_end_seconds = np.unique((stim_ends - stim_starts) / fs)[0]\n",
    "    if stim_ref == 'stim':\n",
    "        window = [period[0], stim_end_seconds + period[1]]\n",
    "    elif stim_ref == 'abs':\n",
    "        window = [period[0], period[1]]\n",
    "    raster_data = []\n",
    "    for trial, start in enumerate(stim_starts):\n",
    "        sptrain = get_spiketrain(rec, start, clusterID, spikes, window, fs)\n",
    "        raster_data.append(sptrain)\n",
    "    #ax = do_raster(raster_data, window, [0, stim_end_seconds], ntrials, ax, **kwargs)\n",
    "    return raster_data, stim_end_seconds"
   ]
  },
  {
   "cell_type": "code",
   "execution_count": 31,
   "metadata": {},
   "outputs": [],
   "source": [
    "### get raster data for all clusters\n",
    "n_units = len(clusters)\n",
    "raster_data = []\n",
    "stim_end_seconds = [[None]*len(stims)]*n_units\n",
    "\n",
    "for i in range(len(clusters)):\n",
    "    r_cluster = []\n",
    "    for j in range(len(stims)):           \n",
    "        r_data, stim_end_seconds[i][j] = plot_raster_cell_stim(spikes, trials, clusters['cluster'][i], stims[j], [-2, 2], 0, 30000.0)\n",
    "        r_cluster.append(r_data)\n",
    "    raster_data.append(r_cluster)"
   ]
  },
  {
   "cell_type": "code",
   "execution_count": 46,
   "metadata": {},
   "outputs": [
    {
     "data": {
      "text/plain": [
       "[<matplotlib.collections.EventCollection at 0x7f1c6f5b69d0>,\n",
       " <matplotlib.collections.EventCollection at 0x7f1c6f5bd0d0>,\n",
       " <matplotlib.collections.EventCollection at 0x7f1c6f5bd750>,\n",
       " <matplotlib.collections.EventCollection at 0x7f1c6f538e10>,\n",
       " <matplotlib.collections.EventCollection at 0x7f1c6f5bde10>,\n",
       " <matplotlib.collections.EventCollection at 0x7f1c6f5c7350>,\n",
       " <matplotlib.collections.EventCollection at 0x7f1c6f5c79d0>,\n",
       " <matplotlib.collections.EventCollection at 0x7f1c6f5c7d90>,\n",
       " <matplotlib.collections.EventCollection at 0x7f1c6f59b210>,\n",
       " <matplotlib.collections.EventCollection at 0x7f1c6f5c7390>,\n",
       " <matplotlib.collections.EventCollection at 0x7f1c6f59bb10>,\n",
       " <matplotlib.collections.EventCollection at 0x7f1c6f5970d0>,\n",
       " <matplotlib.collections.EventCollection at 0x7f1c6f597650>,\n",
       " <matplotlib.collections.EventCollection at 0x7f1c6f597c10>,\n",
       " <matplotlib.collections.EventCollection at 0x7f1c64298150>,\n",
       " <matplotlib.collections.EventCollection at 0x7f1c642986d0>,\n",
       " <matplotlib.collections.EventCollection at 0x7f1c64298cd0>,\n",
       " <matplotlib.collections.EventCollection at 0x7f1c642a2310>,\n",
       " <matplotlib.collections.EventCollection at 0x7f1c642a2990>,\n",
       " <matplotlib.collections.EventCollection at 0x7f1c642a2d50>]"
      ]
     },
     "execution_count": 46,
     "metadata": {},
     "output_type": "execute_result"
    },
    {
     "data": {
      "image/png": "[encoded data removed]",
      "text/plain": [
       "<Figure size 1440x360 with 1 Axes>"
      ]
     },
     "metadata": {
      "needs_background": "light"
     },
     "output_type": "display_data"
    }
   ],
   "source": [
    "### change stim_end_seconds for different cells\n",
    "ntrials = len(trials)\n",
    "spike_linewidth=1.5\n",
    "spike_color='k'\n",
    "ax = plt.gca()\n",
    "ax.set_yticks(range(-1, ntrials-1))\n",
    "ax.figure.set_size_inches(20, 5)\n",
    "xposition = [0, stim_end_seconds[9][1]]\n",
    "for xc in xposition:\n",
    "    plt.axvline(x=xc, color='r', linestyle='-')\n",
    "ax.eventplot(raster_data[9][1], linewidths=spike_linewidth, colors=spike_color)"
   ]
  },
  {
   "cell_type": "markdown",
   "metadata": {},
   "source": [
    "# Get stimulus information"
   ]
  },
  {
   "cell_type": "code",
   "execution_count": 33,
   "metadata": {},
   "outputs": [],
   "source": [
    "import pandas as pd\n",
    "d = []\n",
    "for s in stims:\n",
    "    ind = np.where(trials['stimulus'] == s)[0]\n",
    "    d.append({'name' : s, \n",
    "              'start_times' : [trials['time_samples'][i] for i in ind], \n",
    "              'end_times' : [trials['stimulus_end'][i] for i in ind],\n",
    "              'trial_start' : [trials['time_samples'][i] for i in ind], \n",
    "              'trial_end' : [trials['stimulus_end'][i] for i in ind],\n",
    "              'ntrials' : (list(trials['stimulus'])).count(s)})\n",
    "stim_data = pd.DataFrame(d)"
   ]
  },
  {
   "cell_type": "markdown",
   "metadata": {},
   "source": [
    "# Get toe data, toes"
   ]
  },
  {
   "cell_type": "code",
   "execution_count": 34,
   "metadata": {},
   "outputs": [],
   "source": [
    "### make cluster_stim_data dataframe, one for each cluster\n",
    "### name, ntrials, stim_start_times, stim_end_times, trial_start_times, trial_end_times, toes\n",
    "d_stim = []\n",
    "for i in range(len(clusters)):\n",
    "    d_stim.append({'name':list(stims), \n",
    "                   'ntrials':stim_data['ntrials'].tolist(), \n",
    "                   'stim_start_times':stim_data['start_times'].tolist(), \n",
    "                   'stim_end_times':stim_data['end_times'].tolist(), \n",
    "                   'trial_start_times':stim_data['trial_start'].tolist(), \n",
    "                   'trial_end_times':stim_data['trial_end'].tolist(), \n",
    "                   'toes':raster_data[i]})\n",
    "cluster_stim_data = pd.DataFrame(d_stim)\n",
    "cluster_stim_data = cluster_stim_data.to_dict(orient='index')\n",
    "\n"
   ]
  },
  {
   "cell_type": "code",
   "execution_count": 35,
   "metadata": {},
   "outputs": [],
   "source": [
    "### make toe_data pandas dataframe, one for each cluster\n",
    "### cluster id, sort class, fs, stims, all_spikes\n",
    "d1 = []\n",
    "for i in range(len(clusters)):\n",
    "    ind = np.where(np.array(spikes['cluster']) == i+1)[0]\n",
    "    d1.append({'id':clusters['cluster'][i], \n",
    "               'sort_class':clusters['quality'][i], \n",
    "               'fs':30000, \n",
    "               'stims':cluster_stim_data[i], \n",
    "               'all_spikes':[spikes['time_samples'][j] for j in ind]})\n",
    "toe_data = pd.DataFrame(d1)\n",
    "toe_data = toe_data.to_dict(orient='id')"
   ]
  },
  {
   "cell_type": "markdown",
   "metadata": {},
   "source": [
    "# Stim prep"
   ]
  },
  {
   "cell_type": "code",
   "execution_count": 36,
   "metadata": {},
   "outputs": [],
   "source": [
    "from ipywidgets import interact, interactive, fixed\n",
    "\n",
    "from glob import glob\n",
    "from joblib import Parallel, delayed\n",
    "\n",
    "import imp\n",
    "folder_utils = imp.load_source('folder_utils', r'/mnt/cube/srrudrar/folder_utils.py')\n",
    "ensure_folder_exists = folder_utils.ensure_folder_exists\n",
    "\n",
    "import h5py, os\n",
    "import matplotlib.pyplot as plt\n",
    "%matplotlib inline\n",
    "\n",
    "import librosa\n",
    "import librosa.filters\n",
    "import numpy as np\n",
    "\n",
    "import scipy as sp\n",
    "from scipy import signal\n",
    "from scipy.signal import butter, lfilter, spectrogram\n",
    "from scipy.io import wavfile\n",
    "import IPython.display\n",
    "\n",
    "import matplotlib.pyplot as plt"
   ]
  },
  {
   "cell_type": "code",
   "execution_count": 37,
   "metadata": {},
   "outputs": [
    {
     "name": "stdout",
     "output_type": "stream",
     "text": [
      "['m_211_s_25_song_60sec_01.wav', '165_s_02_01.wav', 'G124-1 -1.wav', 'm_497_17_s1 -1.wav', 'G107-17_01.wav']\n"
     ]
    }
   ],
   "source": [
    "### Write a better way to get spectrograms\n",
    "### Get spectrogram\n",
    "import os\n",
    "stim_folder = '/mnt/cube/Nasim/1_Receptive Field_MNE/2_B952/stim/'\n",
    "\n",
    "print(os.listdir(stim_folder))\n",
    "T = []\n",
    "P = []\n",
    "P_all = []\n",
    "nfft = 128\n",
    "\n",
    "for i in range(len(stims)):\n",
    "    rate, data = wavfile.read(os.path.join(stim_folder, stims[i]+'.wav'))\n",
    "    #spec = spectrogram(data, hparams)\n",
    "    (f, t_stim, P_stim) = sp.signal.spectrogram(data, fs = 48000, nfft = 128, \n",
    "                                            window = np.hanning(nfft), noverlap = 0.5*nfft)\n",
    "    #P_stims, freqs, bins, im = plt.specgram(data[:,0], nfft = 128, fs = 48000, noverlap = 0.5*nfft)\n",
    "    P.append(P_stim)\n",
    "    T.append(t_stim)\n",
    "P_all = np.hstack(P)"
   ]
  },
  {
   "cell_type": "code",
   "execution_count": 38,
   "metadata": {},
   "outputs": [],
   "source": [
    "Nf = 16       # number of frequency bands in STRF\n",
    "Nlags = 20    # number of times/lags\n",
    "order   = 2   # order of MNE model to fit: order 1=linear part of equation,  order=2: linear and non linear parts\n",
    "fittype = 0   # to intialize: 0 for regular fitting, 1 for random fitting  \n",
    "njack   = 4\n",
    "Nd = 4"
   ]
  },
  {
   "cell_type": "code",
   "execution_count": 39,
   "metadata": {},
   "outputs": [],
   "source": [
    "### Please write better code than this ! :/\n",
    "from scipy import stats\n",
    "P_all_mean = np.empty([16,np.shape(P_all)[1]])\n",
    "for i in range(16):\n",
    "    P_all_mean[i,:] = np.mean((20 * np.log(P_all))[4*i:(4*(i+1))-1 , :], axis = 0)\n",
    "\n",
    "tsamples = int(np.shape(P_all)[1]/8)\n",
    "P_mean = np.empty([16,tsamples])\n",
    "for i in range(tsamples):\n",
    "    P_mean[:,i] = np.mean(P_all_mean[: , 8*i:(8*(i+1))-1], axis = 1)"
   ]
  },
  {
   "cell_type": "code",
   "execution_count": 40,
   "metadata": {},
   "outputs": [],
   "source": [
    "stimulus = stats.zscore(P_mean)\n",
    "[Ndim, Nsamples] = np.shape(stimulus)"
   ]
  },
  {
   "cell_type": "code",
   "execution_count": 41,
   "metadata": {},
   "outputs": [],
   "source": [
    "if Nlags > 1:\n",
    "    Nsamples_lag = Nsamples - Nlags + 1    #total length of stimulus minus 19 time bins (16000=16119-(20-1))\n",
    "    Ndimtotal = Ndim * Nlags           #16x20\n",
    "    stim = stimulus[:,0:Nsamples_lag]\n",
    "    for i in range(1,Nlags):\n",
    "        stim = np.vstack((stim, stimulus[:,i:Nsamples_lag+i])) \n",
    "else:\n",
    "    stim = stimulus        "
   ]
  },
  {
   "cell_type": "code",
   "execution_count": 43,
   "metadata": {},
   "outputs": [
    {
     "data": {
      "text/html": [
       "<div>\n",
       "<style scoped>\n",
       "    .dataframe tbody tr th:only-of-type {\n",
       "        vertical-align: middle;\n",
       "    }\n",
       "\n",
       "    .dataframe tbody tr th {\n",
       "        vertical-align: top;\n",
       "    }\n",
       "\n",
       "    .dataframe thead th {\n",
       "        text-align: right;\n",
       "    }\n",
       "</style>\n",
       "<table border=\"1\" class=\"dataframe\">\n",
       "  <thead>\n",
       "    <tr style=\"text-align: right;\">\n",
       "      <th></th>\n",
       "      <th>cluster</th>\n",
       "      <th>quality</th>\n",
       "    </tr>\n",
       "  </thead>\n",
       "  <tbody>\n",
       "    <tr>\n",
       "      <th>0</th>\n",
       "      <td>2</td>\n",
       "      <td>MUA</td>\n",
       "    </tr>\n",
       "    <tr>\n",
       "      <th>1</th>\n",
       "      <td>3</td>\n",
       "      <td>Good</td>\n",
       "    </tr>\n",
       "    <tr>\n",
       "      <th>2</th>\n",
       "      <td>4</td>\n",
       "      <td>unsorted</td>\n",
       "    </tr>\n",
       "    <tr>\n",
       "      <th>3</th>\n",
       "      <td>5</td>\n",
       "      <td>Noise</td>\n",
       "    </tr>\n",
       "    <tr>\n",
       "      <th>4</th>\n",
       "      <td>6</td>\n",
       "      <td>MUA</td>\n",
       "    </tr>\n",
       "    <tr>\n",
       "      <th>5</th>\n",
       "      <td>7</td>\n",
       "      <td>Good</td>\n",
       "    </tr>\n",
       "    <tr>\n",
       "      <th>6</th>\n",
       "      <td>9</td>\n",
       "      <td>MUA</td>\n",
       "    </tr>\n",
       "    <tr>\n",
       "      <th>7</th>\n",
       "      <td>10</td>\n",
       "      <td>Noise</td>\n",
       "    </tr>\n",
       "    <tr>\n",
       "      <th>8</th>\n",
       "      <td>11</td>\n",
       "      <td>MUA</td>\n",
       "    </tr>\n",
       "    <tr>\n",
       "      <th>9</th>\n",
       "      <td>13</td>\n",
       "      <td>MUA</td>\n",
       "    </tr>\n",
       "    <tr>\n",
       "      <th>10</th>\n",
       "      <td>14</td>\n",
       "      <td>MUA</td>\n",
       "    </tr>\n",
       "    <tr>\n",
       "      <th>11</th>\n",
       "      <td>15</td>\n",
       "      <td>MUA</td>\n",
       "    </tr>\n",
       "    <tr>\n",
       "      <th>12</th>\n",
       "      <td>16</td>\n",
       "      <td>MUA</td>\n",
       "    </tr>\n",
       "    <tr>\n",
       "      <th>13</th>\n",
       "      <td>17</td>\n",
       "      <td>MUA</td>\n",
       "    </tr>\n",
       "    <tr>\n",
       "      <th>14</th>\n",
       "      <td>18</td>\n",
       "      <td>MUA</td>\n",
       "    </tr>\n",
       "    <tr>\n",
       "      <th>15</th>\n",
       "      <td>19</td>\n",
       "      <td>MUA</td>\n",
       "    </tr>\n",
       "    <tr>\n",
       "      <th>16</th>\n",
       "      <td>20</td>\n",
       "      <td>Good</td>\n",
       "    </tr>\n",
       "    <tr>\n",
       "      <th>17</th>\n",
       "      <td>21</td>\n",
       "      <td>Good</td>\n",
       "    </tr>\n",
       "    <tr>\n",
       "      <th>18</th>\n",
       "      <td>24</td>\n",
       "      <td>MUA</td>\n",
       "    </tr>\n",
       "    <tr>\n",
       "      <th>19</th>\n",
       "      <td>31</td>\n",
       "      <td>MUA</td>\n",
       "    </tr>\n",
       "    <tr>\n",
       "      <th>20</th>\n",
       "      <td>35</td>\n",
       "      <td>MUA</td>\n",
       "    </tr>\n",
       "    <tr>\n",
       "      <th>21</th>\n",
       "      <td>36</td>\n",
       "      <td>MUA</td>\n",
       "    </tr>\n",
       "    <tr>\n",
       "      <th>22</th>\n",
       "      <td>37</td>\n",
       "      <td>Good</td>\n",
       "    </tr>\n",
       "    <tr>\n",
       "      <th>23</th>\n",
       "      <td>38</td>\n",
       "      <td>MUA</td>\n",
       "    </tr>\n",
       "    <tr>\n",
       "      <th>24</th>\n",
       "      <td>41</td>\n",
       "      <td>Noise</td>\n",
       "    </tr>\n",
       "    <tr>\n",
       "      <th>25</th>\n",
       "      <td>42</td>\n",
       "      <td>Good</td>\n",
       "    </tr>\n",
       "    <tr>\n",
       "      <th>26</th>\n",
       "      <td>43</td>\n",
       "      <td>Noise</td>\n",
       "    </tr>\n",
       "    <tr>\n",
       "      <th>27</th>\n",
       "      <td>46</td>\n",
       "      <td>MUA</td>\n",
       "    </tr>\n",
       "    <tr>\n",
       "      <th>28</th>\n",
       "      <td>47</td>\n",
       "      <td>Good</td>\n",
       "    </tr>\n",
       "    <tr>\n",
       "      <th>29</th>\n",
       "      <td>48</td>\n",
       "      <td>MUA</td>\n",
       "    </tr>\n",
       "    <tr>\n",
       "      <th>30</th>\n",
       "      <td>49</td>\n",
       "      <td>Good</td>\n",
       "    </tr>\n",
       "    <tr>\n",
       "      <th>31</th>\n",
       "      <td>52</td>\n",
       "      <td>Good</td>\n",
       "    </tr>\n",
       "    <tr>\n",
       "      <th>32</th>\n",
       "      <td>53</td>\n",
       "      <td>Good</td>\n",
       "    </tr>\n",
       "    <tr>\n",
       "      <th>33</th>\n",
       "      <td>54</td>\n",
       "      <td>Good</td>\n",
       "    </tr>\n",
       "    <tr>\n",
       "      <th>34</th>\n",
       "      <td>56</td>\n",
       "      <td>MUA</td>\n",
       "    </tr>\n",
       "    <tr>\n",
       "      <th>35</th>\n",
       "      <td>59</td>\n",
       "      <td>MUA</td>\n",
       "    </tr>\n",
       "    <tr>\n",
       "      <th>36</th>\n",
       "      <td>60</td>\n",
       "      <td>Good</td>\n",
       "    </tr>\n",
       "    <tr>\n",
       "      <th>37</th>\n",
       "      <td>61</td>\n",
       "      <td>Good</td>\n",
       "    </tr>\n",
       "    <tr>\n",
       "      <th>38</th>\n",
       "      <td>62</td>\n",
       "      <td>MUA</td>\n",
       "    </tr>\n",
       "    <tr>\n",
       "      <th>39</th>\n",
       "      <td>63</td>\n",
       "      <td>MUA</td>\n",
       "    </tr>\n",
       "    <tr>\n",
       "      <th>40</th>\n",
       "      <td>64</td>\n",
       "      <td>MUA</td>\n",
       "    </tr>\n",
       "    <tr>\n",
       "      <th>41</th>\n",
       "      <td>65</td>\n",
       "      <td>MUA</td>\n",
       "    </tr>\n",
       "    <tr>\n",
       "      <th>42</th>\n",
       "      <td>66</td>\n",
       "      <td>MUA</td>\n",
       "    </tr>\n",
       "    <tr>\n",
       "      <th>43</th>\n",
       "      <td>67</td>\n",
       "      <td>MUA</td>\n",
       "    </tr>\n",
       "  </tbody>\n",
       "</table>\n",
       "</div>"
      ],
      "text/plain": [
       "    cluster   quality\n",
       "0         2       MUA\n",
       "1         3      Good\n",
       "2         4  unsorted\n",
       "3         5     Noise\n",
       "4         6       MUA\n",
       "5         7      Good\n",
       "6         9       MUA\n",
       "7        10     Noise\n",
       "8        11       MUA\n",
       "9        13       MUA\n",
       "10       14       MUA\n",
       "11       15       MUA\n",
       "12       16       MUA\n",
       "13       17       MUA\n",
       "14       18       MUA\n",
       "15       19       MUA\n",
       "16       20      Good\n",
       "17       21      Good\n",
       "18       24       MUA\n",
       "19       31       MUA\n",
       "20       35       MUA\n",
       "21       36       MUA\n",
       "22       37      Good\n",
       "23       38       MUA\n",
       "24       41     Noise\n",
       "25       42      Good\n",
       "26       43     Noise\n",
       "27       46       MUA\n",
       "28       47      Good\n",
       "29       48       MUA\n",
       "30       49      Good\n",
       "31       52      Good\n",
       "32       53      Good\n",
       "33       54      Good\n",
       "34       56       MUA\n",
       "35       59       MUA\n",
       "36       60      Good\n",
       "37       61      Good\n",
       "38       62       MUA\n",
       "39       63       MUA\n",
       "40       64       MUA\n",
       "41       65       MUA\n",
       "42       66       MUA\n",
       "43       67       MUA"
      ]
     },
     "execution_count": 43,
     "metadata": {},
     "output_type": "execute_result"
    }
   ],
   "source": [
    "clusters"
   ]
  },
  {
   "cell_type": "markdown",
   "metadata": {},
   "source": [
    "# Resp prep"
   ]
  },
  {
   "cell_type": "code",
   "execution_count": 48,
   "metadata": {},
   "outputs": [],
   "source": [
    "cellnum = 13\n",
    "toedata_ind = pd.Index(list(clusters['cluster'])).get_loc(cellnum)"
   ]
  },
  {
   "cell_type": "code",
   "execution_count": 49,
   "metadata": {},
   "outputs": [],
   "source": [
    "toes_stim = []\n",
    "for i in range(len(stims)):\n",
    "    toes_stim.append(toe_data[toedata_ind]['stims']['toes'][i])"
   ]
  },
  {
   "cell_type": "code",
   "execution_count": 50,
   "metadata": {},
   "outputs": [],
   "source": [
    "### create trial average of every 5 trials for all stim \n",
    "### how many trials in this case\n",
    "Nlags = 20\n",
    "Nf = 16"
   ]
  },
  {
   "cell_type": "code",
   "execution_count": 51,
   "metadata": {},
   "outputs": [],
   "source": [
    "resp = []\n",
    "for s in range(len(stims)):\n",
    "    timetobin = np.shape(P[s])[1] / T[s][-1]\n",
    "    resp_stim = np.zeros(shape=(stim_data['ntrials'][s] , np.shape(P[s])[1]))\n",
    "    #resp_stim = [[None]*np.shape(P[s])[1]]*stim_data['ntrials'][s]\n",
    "    for k in range(stim_data['ntrials'][s]):\n",
    "        toes_this_trial = []\n",
    "        toes_this_trial = toes_stim[s][k]\n",
    "        for m in range(len(toes_this_trial)):\n",
    "            if toes_this_trial[m] > 0 and  toes_this_trial[m] * timetobin < np.shape(P[s])[1]:\n",
    "                resp_stim[k , int(round(toes_this_trial[m])*timetobin)] = resp_stim[k , int(round(toes_this_trial[m])*timetobin)] + 1\n",
    "                #resp_1(k,round(A_1(m_1).*timetobin_1)) = resp_1(1,round(A_1(m_1).*timetobin_1)) + 1;\n",
    "    resp.append(list(resp_stim))"
   ]
  },
  {
   "cell_type": "code",
   "execution_count": 52,
   "metadata": {},
   "outputs": [],
   "source": [
    "for i in range(len(stims)):\n",
    "    if len(resp[i]) == 2:\n",
    "        resp[i].append(resp[i][1])\n",
    "    if len(resp[i]) == 1:\n",
    "        resp[i].append(resp[i][0])\n",
    "        resp[i].append(resp[i][0])"
   ]
  },
  {
   "cell_type": "code",
   "execution_count": 53,
   "metadata": {},
   "outputs": [
    {
     "name": "stderr",
     "output_type": "stream",
     "text": [
      "/home/srrudrar/anaconda3/envs/tensorflow2/lib/python3.7/site-packages/ipykernel_launcher.py:3: FutureWarning: arrays to stack must be passed as a \"sequence\" type such as list or tuple. Support for non-sequence iterables such as generators is deprecated as of NumPy 1.16 and will raise an error in the future.\n",
      "  This is separate from the ipykernel package so we can avoid doing imports until\n"
     ]
    }
   ],
   "source": [
    "resp_123 = [None]*3\n",
    "for i in range(3):\n",
    "    resp_123[i] = np.hstack(resp[j][i] for j in range(len(stims)))"
   ]
  },
  {
   "cell_type": "code",
   "execution_count": 54,
   "metadata": {},
   "outputs": [],
   "source": [
    "### downsample stimuli\n",
    "resp_123_downsize = np.empty([3,tsamples])\n",
    "for j in range(3):\n",
    "    for i in range(tsamples):\n",
    "        resp_123_downsize[j][i] = np.mean(resp_123[j][8*i:(8*(i+1))-1])"
   ]
  },
  {
   "cell_type": "code",
   "execution_count": 55,
   "metadata": {},
   "outputs": [],
   "source": [
    "a = np.mean(resp_123_downsize, axis=0)\n",
    "response = a[Nlags-1:]/(np.amax(a[Nlags:]))"
   ]
  },
  {
   "cell_type": "markdown",
   "metadata": {},
   "source": [
    "# Run MNE"
   ]
  },
  {
   "cell_type": "code",
   "execution_count": 56,
   "metadata": {},
   "outputs": [],
   "source": [
    "masterstim = np.transpose(stim)    #104040x320\n",
    "masterresp = response    #104040x1\n",
    "master_samples = len(masterstim)"
   ]
  },
  {
   "cell_type": "code",
   "execution_count": 57,
   "metadata": {},
   "outputs": [],
   "source": [
    "njack = 4\n",
    "Ntest = int(master_samples/njack)"
   ]
  },
  {
   "cell_type": "code",
   "execution_count": 58,
   "metadata": {},
   "outputs": [
    {
     "data": {
      "text/plain": [
       "'Starting optimization'"
      ]
     },
     "metadata": {},
     "output_type": "display_data"
    }
   ],
   "source": [
    "#####\n",
    "jack = 3\n",
    "Ntest = int(master_samples/njack)    #  rounds the Ntest to the nearest integers \n",
    "ind = range(jack*Ntest,(jack+1)*Ntest)\n",
    "teststim = masterstim[jack*Ntest : (jack+1)*Ntest, :]\n",
    "testresp = masterresp[jack*Ntest : (jack+1)*Ntest]\n",
    "trainstim = np.delete(masterstim, ind, axis = 0) \n",
    "trainresp = np.delete(masterresp, ind)\n",
    "\n",
    "### Start clock (add this)\n",
    "# Start optimization: look for highest P(resp/stim)=1/(1+exp(a+sh+s^t*J*s)^-1\n",
    "display('Starting optimization')\n",
    "#tic()\n",
    "#celltype = '';  #ignore this"
   ]
  },
  {
   "cell_type": "code",
   "execution_count": 59,
   "metadata": {},
   "outputs": [],
   "source": [
    "#MNEfit(stim, resp, teststim, testresp, celltype, cellnum, jack, order, Nd, fittype);\n",
    "[Nsamples_2,Ndim_2] = np.shape(trainstim)\n",
    "psp = np.mean(trainresp)   #constant parameter a\n",
    "avg = (np.dot(np.transpose(trainstim),trainresp))/Nsamples_2  # h: linear\n",
    "avgs = np.concatenate(([psp],avg), axis = 0)\n",
    "\n",
    "if order>1:\n",
    "    a = np.transpose(matlib.repmat(trainresp,Ndim_2,1))\n",
    "    b = np.multiply(a,trainstim)\n",
    "    avgsqrd = np.dot(np.transpose(trainstim),b)/Nsamples_2  #Ndim x Ndim (320x320)\n",
    "    avgsqrd = avgsqrd.flatten()\n",
    "    avgs = np.concatenate((avgs,avgsqrd), axis = 0)\n",
    "\n",
    "pstart = np.empty(np.shape(avgs))\n",
    "pstart[0] = math.log((1/avgs[0]) - 1)     #pstart(a)\n",
    "random = np.random.rand(Ndim_2)\n",
    "pstart[1:Ndim_2+1] = 0.001*((2*random)-1)\n",
    "if order>1:\n",
    "    random1 = np.random.rand(Ndim_2,Ndim_2)\n",
    "    temp = 0.001*((2*random1)-1)          #pstart(J)\n",
    "    pstart[Ndim_2+1:] = (temp+np.transpose(temp)).reshape([1,Ndim_2**2])\n",
    "    del temp"
   ]
  },
  {
   "cell_type": "code",
   "execution_count": 60,
   "metadata": {},
   "outputs": [],
   "source": [
    "#def log_loss(self, p, stim, resp):\n",
    "def log_loss(p, *args):\n",
    "    #get p into correct form:\n",
    "    p = np.matrix(p)\n",
    "    stim, resp, order = args\n",
    "    \n",
    "    #get number of samples and dimensionality of stimulus\n",
    "    Nsamples = np.size(stim,0)\n",
    "    Ndim = np.size(stim,1)\n",
    "    \n",
    "    #unpack p: (var names match names in Fitzgerald paper)\n",
    "    a = p[0,0]\n",
    "    h = p[0,1:Ndim+1]\n",
    "    \n",
    "    #case: second order calculation --> need J\n",
    "    if(order > 1):\n",
    "        J_squash = p[0,Ndim+1:Ndim+2+Ndim**2]   \n",
    "        #reshape J into Ndim x Ndim matrix:\n",
    "        J = np.reshape(J_squash,(Ndim,Ndim)) #matrix?\n",
    "    \n",
    "    if(order == 1):\n",
    "        f1 = 1 + np.exp(a + stim * h.T)\n",
    "        f0 = 1 + np.exp(-a - stim * h.T)\n",
    "    else:\n",
    "        f1 = 1 + np.exp(np.array(np.ones(Nsamples)*a) + np.array(stim * h.T)[:,0] + (np.sum(np.array(stim)*np.array(stim*J),1)))\n",
    "        f0 = 1 + np.exp(-np.array(np.ones(Nsamples)*a) - np.array(stim * h.T)[:,0] - (np.sum(np.array(stim)*np.array(stim*J),1)))\n",
    "    \n",
    "    #print 'f1'\n",
    "    #print f1\n",
    "    F1 = np.array(resp) * np.log(np.array(f1))\n",
    "    #print F1\n",
    "    #print 'f0'\n",
    "    #print f0\n",
    "    F0 = (1 - np.array(resp)) * np.log(np.array(f0)) \n",
    "    #print F0\n",
    "    F1[np.isnan(F1)] = 0\n",
    "    F0[np.isnan(F0)] = 0\n",
    "    #print 'ave entropy'\n",
    "    #print np.mean(F0 + F1)\n",
    "    return np.mean(F0 + F1)   # f = mean(F0 + F1)"
   ]
  },
  {
   "cell_type": "code",
   "execution_count": 61,
   "metadata": {},
   "outputs": [],
   "source": [
    "#def d_log_loss(self, p, stim, avgs):\n",
    "def d_log_loss(p, *args):\n",
    "    #get p into correct form:\n",
    "    p = np.matrix(p)\n",
    "    stim, avgs, order = args\n",
    "    \n",
    "    Nsamples = np.size(stim,0)\n",
    "    Ndim = np.size(stim,1)\n",
    "    \n",
    "    #unpack p: (var names match names in Fitzgerald paper)\n",
    "    a = p[0,0]\n",
    "    h = p[0,1:Ndim+1]\n",
    "    \n",
    "    #case: second order calculation --> need J\n",
    "    if(order > 1):\n",
    "        J_squash = p[0,Ndim+1:Ndim+2+Ndim**2]\n",
    "        #reshape J into Ndim x Ndim matrix:\n",
    "        J = np.reshape(J_squash,(Ndim,Ndim))\n",
    "   \n",
    "        '''\n",
    "        Review what is happening from here on...\n",
    "        ''' \n",
    "      \n",
    "    if(order == 1):\n",
    "        pSpike = 1/(1 + np.exp(a + stim * h.T)) #Nsamples x 1\n",
    "        averages = np.zeros(Ndim+1)\n",
    "        averages[0] = np.mean(pSpike)\n",
    "        averages[1:] = np.array(stim.T*pSpike)[:,0]/Nsamples #Nsamples x 1\n",
    "    else: #assume order = 2\n",
    "        pSpike = 1 / (1 + np.exp(np.array(np.ones(Nsamples)*a) + np.array(stim * h.T)[:,0] + (np.sum(np.array(stim)*np.array(stim*J),1))))\n",
    "        averages = np.zeros(np.size(p))\n",
    "        averages[0] = np.mean(pSpike)\n",
    "        averages[1:Ndim+1] = np.array(stim.T*np.matrix(pSpike).T)[:,0]/Nsamples #ave number of spikes for each stim dimension\n",
    "        temp = (stim.T .dot((np.array(np.tile(pSpike,(Ndim,1))).T * np.array(stim))))/Nsamples  #ave number of spikes for each stim correlation\n",
    "        temp = np.reshape(temp,[Ndim**2,1])\n",
    "        averages[Ndim+1:Ndim+1+Ndim**2] = np.array(temp)[:,0]\n",
    "    \n",
    "    #print 'average differences:'\n",
    "    #print np.array(avgs)[:,0] - averages\n",
    "        \n",
    "    return np.array(avgs - averages)"
   ]
  },
  {
   "cell_type": "code",
   "execution_count": 62,
   "metadata": {},
   "outputs": [
    {
     "name": "stdout",
     "output_type": "stream",
     "text": [
      "Optimization terminated successfully.\n",
      "         Current function value: 0.001433\n",
      "         Iterations: 145\n",
      "         Function evaluations: 258\n",
      "         Gradient evaluations: 258\n"
     ]
    }
   ],
   "source": [
    "import logLossFuncs as mnefunc\n",
    "import scipy.optimize as opt\n",
    "#pfinal = opt.fmin_cg(f,pstart,fprime=gradf)\n",
    "#mean = mnefunc.log_loss(pstart, trainstim, trainresp, order)\n",
    "\n",
    "LL_train = lambda p: log_loss(p, trainstim, trainresp, order)\n",
    "dLL_train = lambda p: d_log_loss(p, trainstim, avgs, order)\n",
    "\n",
    "\n",
    "pfinal = opt.fmin_cg(LL_train,pstart,fprime=dLL_train)"
   ]
  },
  {
   "cell_type": "code",
   "execution_count": 63,
   "metadata": {},
   "outputs": [
    {
     "data": {
      "text/plain": [
       "array([7.56162041e+00, 8.71741240e-04, 8.35837697e-04, ...,\n",
       "       1.05957129e-03, 9.39604473e-04, 1.01001534e-03])"
      ]
     },
     "execution_count": 63,
     "metadata": {},
     "output_type": "execute_result"
    }
   ],
   "source": [
    "pfinal"
   ]
  },
  {
   "cell_type": "code",
   "execution_count": 40,
   "metadata": {},
   "outputs": [
    {
     "ename": "SyntaxError",
     "evalue": "invalid syntax (<ipython-input-40-519625ce6a85>, line 1)",
     "output_type": "error",
     "traceback": [
      "\u001b[0;36m  File \u001b[0;32m\"<ipython-input-40-519625ce6a85>\"\u001b[0;36m, line \u001b[0;32m1\u001b[0m\n\u001b[0;31m    disp(['Optimization took ' num2str(toc/60) ' minutes']);\u001b[0m\n\u001b[0m                                     ^\u001b[0m\n\u001b[0;31mSyntaxError\u001b[0m\u001b[0;31m:\u001b[0m invalid syntax\n"
     ]
    }
   ],
   "source": [
    "### Fix clock, display\n",
    "display(['Optimization took ' num2str(toc/60) ' minutes']);"
   ]
  },
  {
   "cell_type": "code",
   "execution_count": 64,
   "metadata": {},
   "outputs": [],
   "source": [
    "h=pfinal[1:Nlags*Nf+1]\n",
    "J=pfinal[Nlags*Nf+1:]  #covariance matrix\n",
    "[V,D] = np.linalg.eig(reshape(J,(Nlags*Nf,Nlags*Nf)))  #eigenvalues and eigenvectors"
   ]
  },
  {
   "cell_type": "code",
   "execution_count": 65,
   "metadata": {},
   "outputs": [],
   "source": [
    "index = np.argsort(V)"
   ]
  },
  {
   "cell_type": "code",
   "execution_count": 66,
   "metadata": {},
   "outputs": [
    {
     "data": {
      "text/plain": [
       "<matplotlib.image.AxesImage at 0x7f1c646ad110>"
      ]
     },
     "execution_count": 66,
     "metadata": {},
     "output_type": "execute_result"
    },
    {
     "data": {
      "image/png": "[encoded data removed]",
      "text/plain": [
       "<Figure size 360x288 with 1 Axes>"
      ]
     },
     "metadata": {
      "needs_background": "light"
     },
     "output_type": "display_data"
    }
   ],
   "source": [
    "plt.matshow(np.reshape(h,(Nf,Nlags)))"
   ]
  },
  {
   "cell_type": "code",
   "execution_count": 67,
   "metadata": {},
   "outputs": [
    {
     "data": {
      "text/plain": [
       "<matplotlib.image.AxesImage at 0x7f1c6c030250>"
      ]
     },
     "execution_count": 67,
     "metadata": {},
     "output_type": "execute_result"
    },
    {
     "data": {
      "image/png": "[encoded data removed]",
      "text/plain": [
       "<Figure size 288x288 with 1 Axes>"
      ]
     },
     "metadata": {
      "needs_background": "light"
     },
     "output_type": "display_data"
    }
   ],
   "source": [
    "plt.matshow(np.reshape(J,(Nf*Nlags,Nf*Nlags)))"
   ]
  },
  {
   "cell_type": "code",
   "execution_count": 68,
   "metadata": {},
   "outputs": [
    {
     "data": {
      "text/plain": [
       "[<matplotlib.lines.Line2D at 0x7f1c64549610>]"
      ]
     },
     "execution_count": 68,
     "metadata": {},
     "output_type": "execute_result"
    },
    {
     "data": {
      "image/png": "[encoded data removed]",
      "text/plain": [
       "<Figure size 432x288 with 1 Axes>"
      ]
     },
     "metadata": {
      "needs_background": "light"
     },
     "output_type": "display_data"
    }
   ],
   "source": [
    "eigenvalues_sorted = sort(V)\n",
    "plt.plot(eigenvalues_sorted)"
   ]
  },
  {
   "cell_type": "code",
   "execution_count": 106,
   "metadata": {},
   "outputs": [
    {
     "data": {
      "image/png": "[encoded data removed]",
      "text/plain": [
       "<Figure size 432x288 with 9 Axes>"
      ]
     },
     "metadata": {
      "needs_background": "light"
     },
     "output_type": "display_data"
    }
   ],
   "source": [
    "figure()\n",
    "for i in range(9):\n",
    "    subplot(3, 3, i+1)\n",
    "    eig_sorted = D[:,index[i]]\n",
    "    imshow(reshape(eig_sorted,(Nf,Nlags)))"
   ]
  },
  {
   "cell_type": "code",
   "execution_count": 70,
   "metadata": {},
   "outputs": [
    {
     "data": {
      "text/plain": [
       "-0.011656373111371842"
      ]
     },
     "execution_count": 70,
     "metadata": {},
     "output_type": "execute_result"
    }
   ],
   "source": [
    "min(pfinal)"
   ]
  },
  {
   "cell_type": "code",
   "execution_count": 71,
   "metadata": {},
   "outputs": [
    {
     "data": {
      "text/plain": [
       "7.561620406794053"
      ]
     },
     "execution_count": 71,
     "metadata": {},
     "output_type": "execute_result"
    }
   ],
   "source": [
    "max(pfinal)"
   ]
  },
  {
   "cell_type": "code",
   "execution_count": 74,
   "metadata": {},
   "outputs": [
    {
     "data": {
      "text/plain": [
       "-2.3710361459135724e-06"
      ]
     },
     "execution_count": 74,
     "metadata": {},
     "output_type": "execute_result"
    }
   ],
   "source": [
    "(sum(pfinal) - max(pfinal))/(len(pfinal) - 1)"
   ]
  },
  {
   "cell_type": "code",
   "execution_count": null,
   "metadata": {},
   "outputs": [],
   "source": []
  },
  {
   "cell_type": "code",
   "execution_count": null,
   "metadata": {},
   "outputs": [],
   "source": []
  },
  {
   "cell_type": "code",
   "execution_count": null,
   "metadata": {},
   "outputs": [],
   "source": [
    "print(np.shape(np.log(np.array(f0))))"
   ]
  },
  {
   "cell_type": "code",
   "execution_count": null,
   "metadata": {},
   "outputs": [],
   "source": [
    "print(np.shape((1 - np.array(trainresp))))"
   ]
  },
  {
   "cell_type": "code",
   "execution_count": null,
   "metadata": {},
   "outputs": [],
   "source": [
    "p = np.matrix(p)\n",
    "    \n",
    "    #get number of samples and dimensionality of stimulus\n",
    "    Nsamples = np.size(stim,0)\n",
    "    Ndim = np.size(stim,1)\n",
    "    \n",
    "    #unpack p: (var names match names in Fitzgerald paper)\n",
    "    a = p[0,0]\n",
    "    h = p[0,1:Ndim+1]\n",
    "    \n",
    "    #case: second order calculation --> need J\n",
    "    if(order > 1):\n",
    "        J_squash = p[0,Ndim+1:Ndim+2+Ndim**2]   \n",
    "        #reshape J into Ndim x Ndim matrix:\n",
    "        J = np.reshape(J_squash,(Ndim,Ndim)) #matrix?\n",
    "    \n",
    "    if(order == 1):\n",
    "        f1 = 1 + np.exp(a + stim * h.T)\n",
    "        f0 = 1 + np.exp(-a - stim * h.T)\n",
    "    else:\n",
    "        f1 = 1 + np.exp(np.array(np.ones(Nsamples)*a) + np.array(stim * h.T)[:,0] + (np.sum(np.array(stim)*np.array(stim*J),1)))\n",
    "        f0 = 1 + np.exp(-np.array(np.ones(Nsamples)*a) - np.array(stim * h.T)[:,0] - (np.sum(np.array(stim)*np.array(stim*J),1)))\n",
    "    \n",
    "    #print 'f1'\n",
    "    #print f1\n",
    "    F1 = np.array(resp)[:,0] * np.log(np.array(f1))\n",
    "    #print F1\n",
    "    #print 'f0'\n",
    "    #print f0\n",
    "    F0 = (1 - np.array(resp)[:,0]) * np.log(np.array(f0)) \n",
    "    #print F0\n",
    "    F1[np.isnan(F1)] = 0\n",
    "    F0[np.isnan(F0)] = 0\n",
    "    #print 'ave entropy'\n",
    "    #print np.mean(F0 + F1)\n",
    "    return np.mean(F0 + F1)   # f = mean(F0 + F1)"
   ]
  },
  {
   "cell_type": "code",
   "execution_count": null,
   "metadata": {},
   "outputs": [],
   "source": [
    "def dlinmin():\n",
    "    TOL = 2.0e-4\n",
    "    nrfunc = func \n",
    "    nrdfun = dfunc \n",
    "    pcom   = p \n",
    "    xicom  = xi \n",
    "    \n",
    "    ax = 0.0       #Initial guess for brackets\n",
    "    xx = 0.2       #2*rand();%2.0;\n",
    "    \n",
    "    ftemp = @f1dim\n",
    "    ftemp2 = @df1dim\n",
    "    \n",
    "    \n",
    "    \n",
    "    \n"
   ]
  },
  {
   "cell_type": "code",
   "execution_count": null,
   "metadata": {},
   "outputs": [],
   "source": [
    "function [p, xi, fret] = dlinmin(p, xi, func, dfunc, stim, resp, order, avgs)\n",
    " \n",
    "TOL    = 2.0e-4;  % Tolerance passed to brent. \n",
    "\n",
    "global pcom xicom nrfunc nrdfun; \n",
    "nrfunc = func; \n",
    "nrdfun = dfunc; \n",
    "pcom   = p; \n",
    "xicom  = xi; \n",
    " \n",
    "ax     = 0.0;  % Initial guess for brackets. \n",
    "xx     = .2;%2*rand();%2.0; \n",
    "\n",
    "ftemp=@f1dim;\n",
    "ftemp2=@df1dim;\n",
    "\n",
    "[ax, xx, bx, fa1, fc1, fb1] = mnbrak(ax, xx, ftemp, stim, resp, order, avgs);\n",
    "%[ax,xx,bx]\n",
    "%plotalonglinemin(ax,bx,ftemp);\n",
    "[fret, xmin] = dbrent(ax,xx,bx,ftemp,ftemp2,TOL, stim, resp, order, avgs); \n",
    "%xmin\n",
    "%plot([xmin],[fret],'ro','LineWidth',7); \n",
    "%drawnow;\n",
    "%hold off;\n",
    "xi     = xi.*xmin;\n",
    "p      = p + xi;"
   ]
  },
  {
   "cell_type": "code",
   "execution_count": null,
   "metadata": {},
   "outputs": [],
   "source": []
  },
  {
   "cell_type": "code",
   "execution_count": null,
   "metadata": {},
   "outputs": [],
   "source": []
  },
  {
   "cell_type": "code",
   "execution_count": null,
   "metadata": {},
   "outputs": [],
   "source": []
  },
  {
   "cell_type": "code",
   "execution_count": null,
   "metadata": {},
   "outputs": [],
   "source": [
    "from math import *\n",
    "def frprmn():\n",
    "    ITMAX = 1000\n",
    "    fp = eval(func, p, stim, resp, order)\n",
    "    xi = eval(dfunc, p, stim, avgs, order)    \n",
    "    exitCondition = 0\n",
    "    g  = -xi\n",
    "    h  = g\n",
    "    xi = g\n",
    "    besttest = 1000\n",
    "    flist=[]\n",
    "    ftestlist=[]\n",
    "    tally = 0\n",
    "    \n",
    "    # Loop over iterations of minimization\n",
    "    for its in range(ITMAX):\n",
    "        display('Iteration' str(its))\n",
    "        \n",
    "        "
   ]
  },
  {
   "cell_type": "code",
   "execution_count": null,
   "metadata": {},
   "outputs": [],
   "source": [
    "function [pbest, flist, ftestlist] = frprmn(p, func, dfunc, stim, resp, teststim, testresp, order, avgs, fittype)\n",
    "\n",
    "ITMAX = 1000;\n",
    "fp = feval(func, p, stim, resp, order);\n",
    "xi = feval(dfunc, p, stim, avgs, order);\n",
    "exitCondition = 0;\n",
    "g  = -xi;\n",
    "h  = g;\n",
    "xi = g;\n",
    "besttest = 1000;\n",
    "flist=[];\n",
    "ftestlist=[];\n",
    "tally = 0;\n",
    "\n",
    "% Loop over iterations of minimization\n",
    "for its=1:ITMAX,\n",
    "    disp(['Iteration ' num2str(its)]);\n",
    "  \n",
    "    [p, xi, fret] = dlinmin(p, xi, func, dfunc, stim, resp, order, avgs);\n",
    "    flist(its)=fret;\n",
    "    if fittype==0\n",
    "        ftestlist(its)=feval(func, p, teststim, testresp, order);\n",
    "    end\n",
    "    \n",
    "    \n",
    "%    figure(1)\n",
    "%    plot(flist)\n",
    "%    if fittype==0\n",
    "%        hold on\n",
    "%        plot(ftestlist,'r')\n",
    "%        hold off\n",
    "%    end\n",
    "%    drawnow\n",
    "\n",
    "    \n",
    "    if fittype==0\n",
    "        \n",
    "        if ftestlist(its)<besttest*.999999  || its<=2     % train validation test validation overfitting line goes up\n",
    "            besttest = ftestlist(its);\n",
    "            pbest = p;\n",
    "            tally=0;\n",
    "        else\n",
    "            tally = tally+1;\n",
    "        end\n",
    "        \n",
    "        if tally==10 || its==400\n",
    "            disp(tally)\n",
    "            disp(its)\n",
    "            disp('min of test set found');\n",
    "            exitCondition = 1;\n",
    "            break;\n",
    "        end\n",
    "        \n",
    "    else\n",
    "        [Nsamples,Ndim] = size(stim);\n",
    "        J = reshape(p(Ndim+2:Ndim+1+Ndim^2),[Ndim,Ndim]);\n",
    "        [evecs,evals]=eig(J);\n",
    "        [EV,inds] = sort((diag(evals)));\n",
    "        disp(num2str([min(EV) , max(EV)]));\n",
    "        if its==200\n",
    "            pbest = p;\n",
    "            disp('stopping algorithm');\n",
    "            exitCondition = 1;\n",
    "            break;\n",
    "        end\n",
    "    end\n",
    "    \n",
    "    xi = feval(dfunc, p, stim, avgs, order);\n",
    "    gg = sum(g.^2);\n",
    "    dgg = sum( (xi + g).*xi );   % This statement for Polak-Ribiere\n",
    "    % dgg = sum( xi.^2);         % This statement for Fletcher-Reeves\n",
    "    if gg == 0,            % Unlikely.  If gradient is exactly zero then\n",
    "        exitCondition = 2;   % we are already done.\n",
    "        disp('Gradient equal to zero, exiting frprmn.');\n",
    "        break;\n",
    "    end\n",
    "    gam = dgg/gg;\n",
    "    g = -xi;\n",
    "    h = g + gam.*h;\n",
    "    xi = h;\n",
    "end\n",
    "if exitCondition == 0,\n",
    "    disp('Too many iterations in frprmn');\n",
    "end"
   ]
  },
  {
   "cell_type": "code",
   "execution_count": null,
   "metadata": {},
   "outputs": [],
   "source": []
  },
  {
   "cell_type": "code",
   "execution_count": null,
   "metadata": {},
   "outputs": [],
   "source": []
  },
  {
   "cell_type": "code",
   "execution_count": null,
   "metadata": {},
   "outputs": [],
   "source": []
  },
  {
   "cell_type": "code",
   "execution_count": null,
   "metadata": {},
   "outputs": [],
   "source": [
    "order1 = 2\n",
    "pfinal = mnefit(trainstim,trainresp,order1)"
   ]
  },
  {
   "cell_type": "code",
   "execution_count": null,
   "metadata": {},
   "outputs": [],
   "source": [
    "function df = dlogloss(p, stim, avgs, order)\n",
    "\n",
    "[Nsamples,Ndim] = size(stim);\n",
    "\n",
    "ptemp = p(2:Ndim+1);\n",
    "if order>1\n",
    "    J = reshape(p(Ndim+2:Ndim+1+Ndim^2),[Ndim,Ndim]);\n",
    "end\n",
    "\n",
    "if order==1\n",
    "    pSpike = 1./(1+exp(p(1)+stim*ptemp'));  % Nsamples x 1\n",
    "    averages = mean(pSpike);\n",
    "    averages(2:Ndim+1,1) = stim'*pSpike/Nsamples;\n",
    "elseif order==2\n",
    "    pSpike = 1./(1+exp(p(1)+stim*ptemp'+sum(stim.*(stim*J),2)));  % Nsamples x 1\n",
    "    averages = mean(pSpike);\n",
    "    averages(2:Ndim+1,1) = stim'*pSpike./Nsamples;\n",
    "    temp = stim'*(repmat(pSpike,[1,Ndim]).*stim)./Nsamples;  % Ndim x Ndim\n",
    "    temp = reshape(temp,[Ndim^2,1]);\n",
    "    averages(Ndim+2:Ndim+1+Ndim^2) = temp;    \n",
    "end\n",
    "%display(size(pSpike))\n",
    "%display(size(averages))\n",
    "%display(size(avgs))\n",
    "\n",
    "df = (avgs - averages)';  % 1 x Ndim\n",
    "%display(df)"
   ]
  },
  {
   "cell_type": "code",
   "execution_count": null,
   "metadata": {},
   "outputs": [],
   "source": [
    "#import MNEfit as mnefit\n",
    "#import scipy as sp\n",
    "#import scipy.optimize as opt\n",
    "#mport logLossFuncs as LLF\n",
    "#pfinal = opt.fmin_cg(logLoss,pstart,fprime=dlogLoss)"
   ]
  },
  {
   "cell_type": "code",
   "execution_count": null,
   "metadata": {},
   "outputs": [],
   "source": []
  },
  {
   "cell_type": "code",
   "execution_count": null,
   "metadata": {},
   "outputs": [],
   "source": []
  },
  {
   "cell_type": "code",
   "execution_count": null,
   "metadata": {},
   "outputs": [],
   "source": [
    "np.shape((1.0*stim.T*resp)/(Nsamples*1.0))"
   ]
  },
  {
   "cell_type": "code",
   "execution_count": null,
   "metadata": {},
   "outputs": [],
   "source": [
    "\n",
    "\n",
    "\n",
    "#initialize params:\n",
    "pstart = sp.log(1/avgs[0,0] - 1)\n",
    "pstart = sp.hstack((pstart,(.001*(2*sp.random.rand(Ndim)-1))))\n",
    "if(order > 1):\n",
    "    temp = .0005*(2*sp.random.rand(Ndim,Ndim)-1)\n",
    "    pstart = sp.hstack((pstart,sp.reshape(temp+temp.T,(1,Ndim**2))[0]))\n"
   ]
  },
  {
   "cell_type": "code",
   "execution_count": null,
   "metadata": {},
   "outputs": [],
   "source": [
    "b = np.multiply(a,trainstim)"
   ]
  },
  {
   "cell_type": "code",
   "execution_count": null,
   "metadata": {},
   "outputs": [],
   "source": [
    "c = np.dot(np.transpose(trainstim),b)"
   ]
  },
  {
   "cell_type": "code",
   "execution_count": null,
   "metadata": {},
   "outputs": [],
   "source": [
    "np.shape(c)"
   ]
  },
  {
   "cell_type": "code",
   "execution_count": null,
   "metadata": {},
   "outputs": [],
   "source": []
  },
  {
   "cell_type": "code",
   "execution_count": null,
   "metadata": {},
   "outputs": [],
   "source": [
    "np.shape(np.transpose(trainresp)*trainstim)"
   ]
  },
  {
   "cell_type": "code",
   "execution_count": null,
   "metadata": {},
   "outputs": [],
   "source": [
    "#####\n",
    "print(np.shape(trainstim))\n",
    "print(np.shape(teststim))\n",
    "print(np.shape(masterstim))"
   ]
  },
  {
   "cell_type": "code",
   "execution_count": null,
   "metadata": {},
   "outputs": [],
   "source": [
    "##### \n",
    "resp_mean"
   ]
  },
  {
   "cell_type": "code",
   "execution_count": null,
   "metadata": {},
   "outputs": [],
   "source": [
    "def tic():\n",
    "    #Homemade version of matlab tic and toc functions\n",
    "    import time\n",
    "    global startTime_for_tictoc\n",
    "    startTime_for_tictoc = time.time()\n",
    "\n",
    "def toc():\n",
    "    import time\n",
    "    if 'startTime_for_tictoc' in globals():\n",
    "        print (\"Elapsed time is \" + str(time.time() - startTime_for_tictoc) + \" seconds.\")\n",
    "    else:\n",
    "        print (\"Toc: start time not set\")"
   ]
  },
  {
   "cell_type": "code",
   "execution_count": null,
   "metadata": {},
   "outputs": [],
   "source": [
    "for jack in range(njack):    #loop over all njacks to resample and fix outliers in tsne    \n",
    "    Ntest = int(master_samples/njack)    #  rounds the Ntest to the nearest integers \n",
    "    ind = range(jack*Ntest,(jack+1)*Ntest)\n",
    "    teststim = masterstim[jack*Ntest : (jack+1)*Ntest, :]\n",
    "    testresp = masterresp[jack*Ntest : (jack+1)*Ntest]\n",
    "    trainstim = np.delete(masterstim, ind, axis = 0) \n",
    "    trainresp = np.delete(masterresp, ind)\n",
    "    \n",
    "    # Start optimization: look for highest P(resp/stim)=1/(1+exp(a+sh+s^t*J*s)^-1\n",
    "    display('Starting optimization')\n",
    "    tic()\n",
    "    #celltype = '';  #ignore this\n",
    "    \n",
    "    #MNEfit(stim, resp, teststim, testresp, celltype, cellnum, jack, order, Nd, fittype);\n",
    "    [Nsamples_2,Ndim_2] = np.shape(trainstim)\n",
    "    psp = np.mean(trainresp)   #constant parameter a\n",
    "    ??????avg = (np.transpose(trainstim)*trainresp)/Nsamples_2  # h: linear\n",
    "    \n",
    "avg_1 = mean(avg,2); \n",
    "avgs = [psp;avg_1]; % J: non-linear \n",
    "if order>1\n",
    "    avgsqrd = trainstim'*(repmat(trainresp,[1,Ndim_2]).*trainstim)/Nsamples_2;  % Ndim x Ndim (320x320)\n",
    "    avgsqrd = reshape(avgsqrd,[Ndim_2^2,1]); \n",
    "    avgs = [avgs;avgsqrd]; % avgs= [a,h,J]\n",
    "end\n",
    "\n",
    "% Initialize parameters. This is to set a random staring point on optimization curve. \n",
    "\n",
    "pstart = log(1/avgs(1)-1);  %pstart(a)\n",
    "pstart(2:Ndim_2+1) = .001*(2*rand([1,Ndim_2])-1); %pstart(h)\n",
    "if order>1\n",
    "    temp = .001*(2*rand([Ndim_2,Ndim_2])-1); % pstart(J)\n",
    "    pstart(Ndim_2+2:length(pstart)+Ndim_2^2) = reshape((temp+temp'),[1,Ndim_2^2]);\n",
    "    clear temp;\n",
    "end\n",
    "\n",
    "% Run conjugate gradient algorithm \n",
    "%Conjugate= method of optimization to not to miss the min on curve\n",
    "%frprmn= Get derivative to locate the global minima of variables \n",
    "%logloss=Near probability model to a set of binary labeled examples. \n",
    "%dloggloss=Gradient of the log loss function\n",
    "\n",
    "% Pass pstart (intial number) to logloss and dlogloss...for every point to get pfinal\n",
    "pfinal = frprmn(pstart, @logloss, @dlogloss, trainstim, trainresp, teststim, testresp, order, avgs, Nd, fittype);\n",
    "\n",
    "%Save results\n",
    "       \n",
    "save(['B952_P1S1_cell' num2str(cellnum) '_5stims' '_Nlags' num2str(Nlags) '_nfft128_Nf16' '_jack_' num2str(jack) '_of_' num2str(njack) '.mat'],'pfinal');\n",
    "  \n",
    "%end\n",
    "\n",
    "disp(['Optimization took ' num2str(toc/60) ' minutes']);\n",
    "\n",
    "% This a, h,J are coresponding to pbest=min of test set\n",
    "h=pfinal(2:Nlags*Nf+1); % h=2:321\n",
    "\n",
    "J=pfinal(Nlags*Nf+2:end); % this is the covariance matrix J=322:end \n",
    "\n",
    "[V,D] = eig(reshape(J,Nlags*Nf,Nlags*Nf)); %[V,D] = eig(A) produces a diagonal matrix D of eigenvalues and eigenvectors \n",
    "\n",
    "%Plot the results and save the figures\n",
    "figure\n",
    "subplot(3,3,1)\n",
    "imagesc(reshape(h,Nf,Nlags))\n",
    "axis xy\n",
    "title('h')\n",
    "xlabel('t');\n",
    "ylabel('f');\n",
    " \n",
    "subplot(3,3,2)\n",
    "imagesc(reshape(J,Nlags*Nf,Nlags*Nf))\n",
    "axis xy\n",
    "axis square\n",
    "title('J')\n",
    "\n",
    "subplot(3,3,3)\n",
    "eigenvalues = diag(D);\n",
    "[eigenvalues_sorted,index] = sort(eigenvalues); %sorts the elements of eigenvalues in ascending order.\n",
    "plot(eigenvalues_sorted,'o');\n",
    "title('J Eigvalue Matrix')\n",
    "\n",
    "\n",
    "subplot(3,3,4)\n",
    "eig_sorted_1 = V(:,index(1)); \n",
    "imagesc(reshape(eig_sorted_1,Nf,Nlags))\n",
    "axis xy\n",
    "title('eig vect 1')\n",
    "xlabel('t');\n",
    "ylabel('f');\n",
    "\n",
    "subplot(3,3,5)\n",
    "eig_sorted_2=V(:,index(2)); \n",
    "imagesc(reshape(eig_sorted_2,Nf,Nlags))\n",
    "axis xy\n",
    "title('eig vect 2')\n",
    "xlabel('t');\n",
    "ylabel('f');\n",
    "\n",
    "subplot(3,3,6)\n",
    "eig_sorted_3=V(:,index(3)); \n",
    "imagesc(reshape(eig_sorted_3,Nf,Nlags))\n",
    "axis xy\n",
    "title('eig vect 3')\n",
    "xlabel('t');\n",
    "ylabel('f');\n",
    "\n",
    "subplot(3,3,7)\n",
    "eig_sorted_end=V(:,index(end));\n",
    "imagesc(reshape(eig_sorted_end,Nf,Nlags))\n",
    "axis xy\n",
    "title('eig vect end')\n",
    "xlabel('t');\n",
    "ylabel('f');\n",
    "\n",
    "subplot(3,3,8)\n",
    "eig_sorted_end_1=V(:,index(end-1));\n",
    "imagesc(reshape(eig_sorted_end_1,Nf,Nlags))\n",
    "axis xy\n",
    "title('eig vect end-1')\n",
    "xlabel('t');\n",
    "ylabel('f');\n",
    "\n",
    "subplot(3,3,9)\n",
    "eig_sorted_end_2=V(:,index(end-2));\n",
    "imagesc(reshape(eig_sorted_end_2,Nf,Nlags))\n",
    "axis xy\n",
    "title('eig vect end-2')\n",
    "xlabel('t');\n",
    "ylabel('f');\n",
    "\n",
    "figure_name = (['B952_' num2str(cellnum) 'your figure name' '_Nlags' num2str(Nlags) '_nfft128_Nf16' '_jack_' num2str(jack) '_of_' num2str(njack)]); \n",
    "end"
   ]
  },
  {
   "cell_type": "code",
   "execution_count": null,
   "metadata": {},
   "outputs": [],
   "source": []
  },
  {
   "cell_type": "code",
   "execution_count": null,
   "metadata": {},
   "outputs": [],
   "source": []
  },
  {
   "cell_type": "code",
   "execution_count": null,
   "metadata": {},
   "outputs": [],
   "source": [
    "def plot_raster_cell__stim(spikes, trials, clusterID,\n",
    "                          stim, period, rec, fs, ax=None, stim_ref='stim', **kwargs):\n",
    "    stim_trials = trials[trials['stimulus'] == stim]\n",
    "    ntrials = len(stim_trials)\n",
    "    stim_starts = stim_trials['time_samples'].values\n",
    "    stim_ends = stim_trials['stimulus_end'].values\n",
    "    stim_end_seconds = np.unique((stim_ends - stim_starts) / fs)[0]\n",
    "    if stim_ref == 'stim':\n",
    "        window = [period[0], stim_end_seconds + period[1]]\n",
    "    elif stim_ref == 'abs':\n",
    "        window = [period[0], period[1]]\n",
    "    raster_data = []\n",
    "    for trial, start in enumerate(stim_starts):\n",
    "        sptrain = get_spiketrain(rec, start, clusterID, spikes, window, fs)\n",
    "        raster_data.append(sptrain)\n",
    "    ax = do_raster(raster_data, window, [0, stim_end_seconds], ntrials, ax, **kwargs)\n",
    "    return ax"
   ]
  },
  {
   "cell_type": "code",
   "execution_count": null,
   "metadata": {},
   "outputs": [],
   "source": []
  },
  {
   "cell_type": "code",
   "execution_count": null,
   "metadata": {},
   "outputs": [],
   "source": []
  },
  {
   "cell_type": "code",
   "execution_count": null,
   "metadata": {},
   "outputs": [],
   "source": []
  },
  {
   "cell_type": "code",
   "execution_count": null,
   "metadata": {},
   "outputs": [],
   "source": []
  },
  {
   "cell_type": "code",
   "execution_count": null,
   "metadata": {},
   "outputs": [],
   "source": []
  },
  {
   "cell_type": "code",
   "execution_count": null,
   "metadata": {},
   "outputs": [],
   "source": []
  },
  {
   "cell_type": "code",
   "execution_count": null,
   "metadata": {},
   "outputs": [],
   "source": []
  },
  {
   "cell_type": "code",
   "execution_count": null,
   "metadata": {},
   "outputs": [],
   "source": []
  },
  {
   "cell_type": "code",
   "execution_count": null,
   "metadata": {},
   "outputs": [],
   "source": [
    "#"
   ]
  },
  {
   "cell_type": "code",
   "execution_count": null,
   "metadata": {},
   "outputs": [],
   "source": [
    "import scipy.optimize as opt\n",
    "import numpy as np\n",
    "\n",
    "def log_loss(p, stim, resp, order):\n",
    "    #get number of samples and dimensionality of stimulus\n",
    "    Nsamples, Ndim = stim.shape\n",
    "    resp = np.reshape(resp, (-1))\n",
    "    \n",
    "    #unpack p: (var names match names in Fitzgerald paper)\n",
    "    a = p[0]\n",
    "    h = p[1:Ndim+1].T\n",
    "    \n",
    "    #case: second order calculation --> need J\n",
    "    if order > 1:\n",
    "        #reshape J into Ndim x Ndim matrix:\n",
    "        J = np.reshape(p[Ndim+1:Ndim+1+Ndim**2], (Ndim,Ndim)).T\n",
    "    \n",
    "    if order == 1:\n",
    "        f1 = 1 + np.exp( a + stim.dot(h))\n",
    "        f0 = 1 + np.exp(-a - stim.dot(h))\n",
    "    else:\n",
    "        f1 = 1 + np.exp( a + stim.dot(h) + (np.sum(stim * (stim.dot(J)),1)))\n",
    "        f0 = 1 + np.exp(-a - stim.dot(h) - (np.sum(stim * (stim.dot(J)),1)))\n",
    "    \n",
    "    F1 = resp * np.log(f1)\n",
    "    F0 = (1 - resp) * np.log(f0)\n",
    "    F1[np.isnan(F1)] = 0\n",
    "    F0[np.isnan(F0)] = 0\n",
    "    return np.mean(F0 + F1)\n",
    "\n",
    "def d_log_loss(p,stim,avgs,order):\n",
    "    #get number of samples and dimensionality of stimulus\n",
    "    Nsamples, Ndim = stim.shape\n",
    "    \n",
    "    #unpack p: (var names match names in Fitzgerald paper)\n",
    "    a = p[0]\n",
    "    h = p[1:Ndim+1].T\n",
    "    \n",
    "    #case: second order calculation --> need J\n",
    "    if order > 1:\n",
    "        J = np.reshape(p[Ndim+1:Ndim+1+Ndim**2], (Ndim,Ndim))\n",
    "        \n",
    "    if order == 1:\n",
    "        pSpike = 1.0 / (1.0 + np.exp(a + stim.dot(h))) #Nsamples x 1\n",
    "        averages = np.hstack((np.mean(pSpike), stim.T.dot(pSpike) / Nsamples))\n",
    "    elif order == 2:\n",
    "        \n",
    "        pSpike = 1.0 / (1.0 + np.exp(a + stim.dot(h) + (np.sum(stim * (stim.dot(J)),1))))\n",
    "        averages = np.zeros(1+Ndim+Ndim**2)\n",
    "        averages[0] = np.mean(pSpike)\n",
    "        averages[1:Ndim+1] = stim.T.dot(pSpike) / Nsamples #ave number of spikes for each stim dimension\n",
    "        \n",
    "        temp = (stim.T.dot(np.tile(np.reshape(pSpike, (Nsamples, 1)), (1,Ndim)) * stim)) / Nsamples  #ave number of spikes for each stim correlation\n",
    "        temp = np.reshape(temp,[Ndim**2,1])\n",
    "        averages[Ndim+1:Ndim+1+Ndim**2] = np.reshape(temp, Ndim**2)\n",
    "        \n",
    "    return (np.squeeze(avgs) - averages)\n",
    "\n",
    "def constrained_averages(stim, resp, order):\n",
    "    Nsamples, Ndim = stim.shape\n",
    "    psp = np.mean(resp) #spike probability\n",
    "    avg = stim.T.dot(resp) / Nsamples\n",
    "    avgs = np.vstack((psp,avg))\n",
    "    if order > 1 :\n",
    "        avgsqrd = stim.T.dot(np.tile(resp, (1,Ndim)) * stim) / Nsamples\n",
    "        avgsqrd = np.reshape(avgsqrd,(Ndim**2,1))\n",
    "        avgs = np.vstack((avgs,avgsqrd))\n",
    "    return avgs\n",
    "\n",
    "def rand_pstart(avgs, order, Ndim):\n",
    "    pstart = np.log(1.0 / avgs[0] - 1.0)\n",
    "    pstart = np.hstack((pstart,(.001*(2*np.random.rand(Ndim)-1))))\n",
    "    if order > 1:\n",
    "        temp = .0005 * (2 * np.random.rand(Ndim,Ndim) - 1) # for symmetry\n",
    "        pstart = np.hstack((pstart, np.reshape(temp + temp.T, Ndim**2)))\n",
    "    return pstart\n",
    "    \n",
    "class IterCounter(object):\n",
    "    def __init__(self):\n",
    "        self.n_iters = 1\n",
    "        print '{0:5s}'.format('Iters')\n",
    "    def callback(self, xk):\n",
    "        print '{0:5d}'.format(self.n_iters)\n",
    "        self.n_iters += 1\n",
    "    \n",
    "class OverfitException(Exception):\n",
    "    def __init__(self, p):\n",
    "        self.p = p\n",
    "        \n",
    "class OverfitStopper(object):\n",
    "    def __init__(self, test_stim, test_resp, order):\n",
    "        self.test_stim = test_stim\n",
    "        self.test_resp = test_resp\n",
    "        self.order = order\n",
    "        self.n_iters = 1\n",
    "        self.best_ll = np.inf\n",
    "        self.best_p = 0\n",
    "        self.test_tally = 0\n",
    "        print '{0:5s}   {1:5s}   {2:9s}'.format('Iters', 'tally', 'll(test)')\n",
    "        \n",
    "    def callback(self, pk):\n",
    "        ll_test_k = log_loss(pk, self.test_stim, self.test_resp, self.order)\n",
    "        print '{0:5d}   {1:5d}   {2: 3.6f}'.format(self.n_iters, self.test_tally, ll_test_k)\n",
    "        if self.n_iters <= 2 or ll_test_k < self.best_ll:\n",
    "            self.best_ll = ll_test_k\n",
    "            self.best_p = pk\n",
    "            self.test_tally = 0\n",
    "        else:\n",
    "            self.test_tally += 1\n",
    "        \n",
    "        if self.test_tally >= 10:\n",
    "            print 'minimum of test set found'\n",
    "            raise OverfitException(self.best_p)\n",
    "        \n",
    "        self.n_iters += 1\n",
    "\n",
    "def MNEfit(stim, resp, order, pstart=None):\n",
    "\n",
    "    stim = np.array(stim, dtype=float)\n",
    "    resp = np.array(resp, dtype=float)\n",
    "\n",
    "    Nsamples, Ndim = stim.shape\n",
    "    avgs = constrained_averages(stim, resp, order)\n",
    "    \n",
    "    if pstart is None: #initialize params:\n",
    "        pstart = rand_pstart(avgs, order, Ndim)\n",
    "    \n",
    "    #redefine functions with fixed vals:\n",
    "    def logLoss(p):\n",
    "        return log_loss(p, stim, resp, order)\n",
    "    def dlogLoss(p):\n",
    "        return d_log_loss(p, stim, avgs, order)\n",
    "    \n",
    "    pfinal = opt.fmin_cg(logLoss, pstart, fprime=dlogLoss, \n",
    "                         callback=IterCounter().callback, maxiter=200)\n",
    "    \n",
    "    return pfinal\n",
    "\n",
    "def MNEfit_jackknives(stim, resp, order, pstart=None, jackknives=4, shuffle=True):\n",
    "\n",
    "    stim = np.array(stim, dtype=float)\n",
    "    resp = np.array(resp, dtype=float)\n",
    "    \n",
    "    Nsamples, Ndim = stim.shape #TODO: rename Nsamples to n_samples\n",
    "    assert resp.shape[0] == Nsamples\n",
    "    assert resp.shape[1] == 1\n",
    "    \n",
    "    if shuffle:\n",
    "        shuffled_indxs = range(Nsamples)\n",
    "        np.random.shuffle(shuffled_indxs)\n",
    "        stim = stim[shuffled_indxs,:]\n",
    "        resp = resp[shuffled_indxs,:]\n",
    "    \n",
    "    for jackknife in range(jackknives):\n",
    "        test_stim = stim[jackknife::jackknives,:]\n",
    "        test_resp = resp[jackknife::jackknives,:]\n",
    "        train_stim = stim[np.mod(np.arange(Nsamples)-jackknife, jackknives) != 0,:]\n",
    "        train_resp = resp[np.mod(np.arange(Nsamples)-jackknife, jackknives) != 0,:]\n",
    "        \n",
    "        avgs = constrained_averages(train_stim, train_resp, order)\n",
    "\n",
    "        if pstart is None: #initialize params:\n",
    "            pstart = rand_pstart(avgs, order, Ndim)\n",
    "            \n",
    "        #redefine functions with fixed vals:\n",
    "        def logLoss(p):\n",
    "            return log_loss(p, train_stim, train_resp, order)\n",
    "        def dlogLoss(p):\n",
    "            return d_log_loss(p, train_stim, avgs, order)\n",
    "\n",
    "        try:\n",
    "            pfinal = opt.fmin_cg(logLoss, pstart, fprime=dlogLoss,\n",
    "                                 callback=OverfitStopper(test_stim, test_resp, order).callback,\n",
    "                                 maxiter=200)\n",
    "        except OverfitException as e:\n",
    "            pfinal = e.p\n",
    "        \n",
    "        if jackknife == 0:\n",
    "            all_pfinals = np.zeros((jackknives, len(pstart)))\n",
    "        all_pfinals[jackknife, :] = pfinal\n",
    "    \n",
    "    return all_pfinals"
   ]
  }
 ],
 "metadata": {
  "kernelspec": {
   "display_name": "Python 3",
   "language": "python",
   "name": "python3"
  },
  "language_info": {
   "codemirror_mode": {
    "name": "ipython",
    "version": 3
   },
   "file_extension": ".py",
   "mimetype": "text/x-python",
   "name": "python",
   "nbconvert_exporter": "python",
   "pygments_lexer": "ipython3",
   "version": "3.7.5"
  }
 },
 "nbformat": 4,
 "nbformat_minor": 2
}
