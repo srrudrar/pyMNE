{
 "cells": [
  {
   "cell_type": "code",
   "execution_count": 1,
   "metadata": {},
   "outputs": [
    {
     "name": "stdout",
     "output_type": "stream",
     "text": [
      "Populating the interactive namespace from numpy and matplotlib\n"
     ]
    }
   ],
   "source": [
    "import sys\n",
    "from ephys import rasters, core, events\n",
    "import matplotlib.pyplot as plt\n",
    "import numpy as np\n",
    "import math\n",
    "%pylab inline\n",
    "#reload(rasters)\n",
    "import numpy.matlib as matlib"
   ]
  },
  {
   "cell_type": "code",
   "execution_count": 2,
   "metadata": {},
   "outputs": [],
   "source": [
    "from ephys import core, events, rasters\n",
    "import numpy as np\n",
    "import matplotlib.pyplot as plt\n",
    "from oe_pipeline import mdaio\n",
    "from importlib import reload"
   ]
  },
  {
   "cell_type": "code",
   "execution_count": 3,
   "metadata": {},
   "outputs": [],
   "source": [
    "import pyMNE_functions as func"
   ]
  },
  {
   "cell_type": "code",
   "execution_count": 4,
   "metadata": {},
   "outputs": [
    {
     "name": "stdout",
     "output_type": "stream",
     "text": [
      "     codes  recording  stimulus_end  \\\n",
      "0     b'<'          0       1169720   \n",
      "1     b'<'          0       2696523   \n",
      "2     b'<'          0       3018905   \n",
      "3     b'<'          0       3261559   \n",
      "4     b'<'          0       3563501   \n",
      "...    ...        ...           ...   \n",
      "1075  b'<'          0     576793655   \n",
      "1076  b'<'          0     577054279   \n",
      "1077  b'<'          0     577308517   \n",
      "1078  b'<'          0     577549637   \n",
      "1079  b'<'          0     577800047   \n",
      "\n",
      "                                              text  time_samples  \n",
      "0                       b'rmp5ms_G122-29.wav.sine'        168704  \n",
      "1                        b'rmp5ms_180-12.wav.sine'       1364171  \n",
      "2        b'5_P2165_s_16@1___P6211_s_52@1.wav.sine'       2866414  \n",
      "3        b'2_N1211_s_04@1___M2165_s_20@1.wav.sine'       3197753  \n",
      "4        b'4_G6165_s_26@1___G6165_s_26@1.wav.sine'       3456304  \n",
      "...                                            ...           ...  \n",
      "1075     b'2_E6165_s_12@2___E6165_s_12@2.wav.sine'     576726484  \n",
      "1076   b'2_B18211_s_58@2___B22165_s_22@2.wav.sine'     576987165  \n",
      "1077     b'2_E7165_s_32@1___E6165_s_12@2.wav.sine'     577244199  \n",
      "1078  b'3_ee_G105_s_05_@2___F2165_s_06@2.wav.sine'     577440029  \n",
      "1079   b'2_N_G105_s_04_@2___M2165_s_20@1.wav.sine'     577724042  \n",
      "\n",
      "[1080 rows x 5 columns]\n"
     ]
    }
   ],
   "source": [
    "#block_path = '/mnt/cube/nyoni-raw/test_data/201901300906-B970-block-9-AP-1250-ML-750-Z-1750'\n",
    "#block_path = '/mnt/cube/Nasim/1_Receptive Field_MNE/2_B952/B952_2_Pen01_Lft_AP750_ML1750__Site01_Z1500__B952_cat_P01_S01_2'\n",
    "block_path = '/mnt/cube/mturvz/analysis/sorted_experiments/2019_09_20_B1477_MET_sorted/20190921-nyoni-B1477/201909211102-B1477-block-9-AP-2500-ML--500-Z-1600/2019-09-21_11-02-53' \n",
    "\n",
    "reload(events)\n",
    "spikes = core.load_spikes(block_path)\n",
    "stims = core.load_events(block_path, 'Stimulus')\n",
    "print(stims)\n",
    "trials = events.oe_load_trials(block_path)\n",
    "fs = core.load_fs(block_path)\n",
    "clusters = core.load_clusters(block_path)\n",
    "#clusters['quality'] = ['good'] * 43"
   ]
  },
  {
   "cell_type": "code",
   "execution_count": 5,
   "metadata": {},
   "outputs": [
    {
     "name": "stdout",
     "output_type": "stream",
     "text": [
      "      trial_start  trial_end  time_samples  stimulus_end  \\\n",
      "0          166364    1168056        168704       1169720   \n",
      "1         1361945    2694408       1364171       2696523   \n",
      "2         2864073    3016614       2866414       3018905   \n",
      "3         3195413    3259484       3197753       3261559   \n",
      "4         3453963    3561223       3456304       3563501   \n",
      "...           ...        ...           ...           ...   \n",
      "1075    576724143  576791698     576726484     576793655   \n",
      "1076    576984826  577052379     576987165     577054279   \n",
      "1077    577241859  577306629     577244199     577308517   \n",
      "1078    577437689  577547736     577440029     577549637   \n",
      "1079    577721701  577798312     577724042     577800047   \n",
      "\n",
      "                                       stimulus  \n",
      "0                       rmp5ms_G122-29.wav.sine  \n",
      "1                        rmp5ms_180-12.wav.sine  \n",
      "2        5_P2165_s_16@1___P6211_s_52@1.wav.sine  \n",
      "3        2_N1211_s_04@1___M2165_s_20@1.wav.sine  \n",
      "4        4_G6165_s_26@1___G6165_s_26@1.wav.sine  \n",
      "...                                         ...  \n",
      "1075     2_E6165_s_12@2___E6165_s_12@2.wav.sine  \n",
      "1076   2_B18211_s_58@2___B22165_s_22@2.wav.sine  \n",
      "1077     2_E7165_s_32@1___E6165_s_12@2.wav.sine  \n",
      "1078  3_ee_G105_s_05_@2___F2165_s_06@2.wav.sine  \n",
      "1079   2_N_G105_s_04_@2___M2165_s_20@1.wav.sine  \n",
      "\n",
      "[1080 rows x 5 columns]\n"
     ]
    }
   ],
   "source": [
    "print(trials)"
   ]
  },
  {
   "cell_type": "code",
   "execution_count": 6,
   "metadata": {},
   "outputs": [],
   "source": [
    "### run this block only for old rig\n",
    "trial_starts = trials.time_samples\n",
    "trial_ends = trials.stimulus_end"
   ]
  },
  {
   "cell_type": "code",
   "execution_count": 7,
   "metadata": {},
   "outputs": [],
   "source": [
    "### run this block only for new rig\n",
    "#def oe_load_trials(block_path):\n",
    "TRIAL_CHANNEL = 0    \n",
    "ttls = core.load_events(block_path, 'TTL')\n",
    "stimuli = core.load_events(block_path, 'Stimulus')\n",
    "\n",
    "trial_starts = ttls[(ttls.channel == TRIAL_CHANNEL) & (ttls.eventID==1)]['time_samples'].values\n",
    "trial_ends = ttls[(ttls.channel == TRIAL_CHANNEL) & (ttls.eventID==0)]['time_samples'].values\n",
    "#stims = [x.decode('utf8') for x in stimuli['text'].values]\n",
    "#time_samples = stimuli['time_samples'].values\n",
    "#stimulus_end = stimuli['stimulus_end'].values  \n",
    "#trials = pd.DataFrame({'trial_start': trial_starts, 'trial_end': trial_ends, 'time_samples': time_samples, 'stimulus_end': stimulus_end, 'stimulus': stims})\n",
    "#return trials"
   ]
  },
  {
   "cell_type": "code",
   "execution_count": 8,
   "metadata": {},
   "outputs": [],
   "source": [
    "stims = trials['stimulus'].unique()\n",
    "nstims = len(stims)"
   ]
  },
  {
   "cell_type": "code",
   "execution_count": 9,
   "metadata": {},
   "outputs": [
    {
     "data": {
      "text/plain": [
       "array(['rmp5ms_G122-29.wav.sine', 'rmp5ms_180-12.wav.sine',\n",
       "       '5_P2165_s_16@1___P6211_s_52@1.wav.sine',\n",
       "       '2_N1211_s_04@1___M2165_s_20@1.wav.sine',\n",
       "       '4_G6165_s_26@1___G6165_s_26@1.wav.sine',\n",
       "       '4_B8165_s_26@1___B6211_s_08@1.wav.sine',\n",
       "       '4_A3+B3165_s_13@1___A3+B3165_s_13@1.wav.sine',\n",
       "       '3_G2211_s_09@2___G2211_s_09@2.wav.sine',\n",
       "       '1_E6211_s_13@1___E2165_s_12@4.wav.sine',\n",
       "       '3_D6211_s_15@1___D6211_s_15@1.wav.sine',\n",
       "       '2_N_G105_s_04_@2___N1211_s_04@1.wav.sine',\n",
       "       '1_B18211_s_58@2___B12165_s_48@1.wav.sine',\n",
       "       'rmp5ms_G124-1.wav.sine', 'rmp5ms_181-11.wav.sine',\n",
       "       '2_J22165_s_59@1___J32165_s_35@1.wav.sine',\n",
       "       '3_ff1_G105_s_06_@1___ff1_G105_s_06_@1.wav.sine',\n",
       "       '3_T_G105_s_04_@2___T_G105_s_04_@2.wav.sine',\n",
       "       'rmp5ms_G124-17.wav.sine',\n",
       "       '3_M_G105_s_06_@1___M_G105_s_06_@1.wav.sine',\n",
       "       '4_R_G105_s_06_@1___R_G105_s_06_@1.wav.sine',\n",
       "       '2_E6165_s_12@2___E6165_s_12@2.wav.sine',\n",
       "       '3_Q6211_s_29@1___Q2211_s_05@2.wav.sine',\n",
       "       '3_aa_G105_s_08_@2___aa_G105_s_08_@2.wav.sine',\n",
       "       '4_O2165_s_18@2___P_G105_s_07_@1.wav.sine',\n",
       "       '2_B18211_s_58@2___B22165_s_22@2.wav.sine',\n",
       "       '4_Z3165_s_09@1___Z3165_s_09@1.wav.sine', 'rmp5ms_181-15.wav.sine',\n",
       "       '3_E6211_s_13@1___E6211_s_13@1.wav.sine',\n",
       "       '4_U1211_s_48@1___R1211_s_16@2.wav.sine', 'rmp5ms_181-17.wav.sine',\n",
       "       '3_K1_G105_s_04_@1___K2165_s_06@2.wav.sine',\n",
       "       '3_C29165_s_29@1___C29165_s_29@1.wav.sine',\n",
       "       '4_C29165_s_29@1___C29165_s_29@1.wav.sine',\n",
       "       '3_F1211_s_04@2___F1211_s_04@2.wav.sine',\n",
       "       '3_aa_G105_s_08_@2___A62165_s_62@1.wav.sine',\n",
       "       'rmp5ms_181-27.wav.sine', '5_D2165_s_20@3___D6211_s_15@1.wav.sine',\n",
       "       '5_Q6211_s_29@1___Q2211_s_05@2.wav.sine',\n",
       "       '3_L2_G105_s_01_@1___L6211_s_20@2.wav.sine',\n",
       "       '4_B22165_s_22@2___B12165_s_48@1.wav.sine',\n",
       "       'rmp5ms_181-36.wav.sine',\n",
       "       '3_L1_G105_s_06_@1___L1_G105_s_06_@1.wav.sine',\n",
       "       '3_A62165_s_62@1___A62165_s_62@1.wav.sine',\n",
       "       '2_A62165_s_62@1___B_G105_s_03_@1.wav.sine',\n",
       "       '4_D1211_s_04@2___D6165_s_16@1.wav.sine',\n",
       "       '3_N1211_s_04@1___N1211_s_04@1.wav.sine',\n",
       "       '2_K_G105_s_05_@1___J6211_s_13@2.wav.sine',\n",
       "       '2_N_G105_s_04_@2___M2165_s_20@1.wav.sine',\n",
       "       '4_R1211_s_16@2___Q6211_s_29@1.wav.sine',\n",
       "       '3_ee_G105_s_05_@2___F2165_s_06@2.wav.sine',\n",
       "       '4_B22211_s_59@1___B22211_s_59@1.wav.sine',\n",
       "       '1_aa_G105_s_08_@2___B2165_s_03@3.wav.sine',\n",
       "       'rmp5ms_180-54.wav.sine',\n",
       "       '3_Y1_G105_s_02_@2___Y1_G105_s_02_@2.wav.sine',\n",
       "       '2_A62165_s_62@1___Z24211_s_24@1.wav.sine',\n",
       "       '4_I1211_s_04@1___I1211_s_04@1.wav.sine',\n",
       "       'rmp5ms_G122-18.wav.sine',\n",
       "       '3_J1211_s_03@2___J1211_s_03@2.wav.sine',\n",
       "       '2_D7165_s_07@2___D7165_s_07@2.wav.sine',\n",
       "       '2_E7165_s_32@1___E6165_s_12@2.wav.sine'], dtype=object)"
      ]
     },
     "execution_count": 9,
     "metadata": {},
     "output_type": "execute_result"
    }
   ],
   "source": [
    "stims"
   ]
  },
  {
   "cell_type": "markdown",
   "metadata": {},
   "source": [
    "# Get rasters"
   ]
  },
  {
   "cell_type": "code",
   "execution_count": 10,
   "metadata": {},
   "outputs": [],
   "source": [
    "def plot_raster_cell_stim(spikes, trials, clusterID,\n",
    "                          stim, period, rec, fs, ax=None, stim_ref='stim', **kwargs):\n",
    "    '''\n",
    "    Plots a spike raster for a single cell and stimulus\n",
    "    Parameters\n",
    "    ------\n",
    "    spikes : pandas dataframe\n",
    "        spike dataframe from core\n",
    "    trials : pandas dataframe\n",
    "        trials dataframe from events\n",
    "    clusterID : int\n",
    "        ID number of the cluster you wish to make the raster for\n",
    "    stim : str\n",
    "        Name of the stimulus you wish to plot cluster's activity for\n",
    "    period : list of floats\n",
    "        Time window for the raster:\n",
    "        [Seconds_pre_stimulus_onset, Seconds_post_stimulus_end]\n",
    "    rec : int\n",
    "        Recording ID\n",
    "    fs : float\n",
    "        Sampling rate\n",
    "    plot_params : dict\n",
    "        Drawing parameters:\n",
    "        'spike_linewidth' - linewidth of ticks for spikes\n",
    "        'tick_linewidth' - linewidth of ticks for event markers\n",
    "        'spike_color' - color of spike ticks\n",
    "        'tick_color' - color of event ticks\n",
    "    ax : Matplotlib axes handle, optional\n",
    "        Axes on which to produce the raster.  Default is to use gca\n",
    "    kwargs :\n",
    "        keyword arguments are passed to the do_raster method\n",
    "    '''\n",
    "    from ephys.spiketrains import get_spiketrain\n",
    "    stim_trials = trials[trials['stimulus'] == stim]\n",
    "    ntrials = len(stim_trials)\n",
    "    stim_starts = stim_trials['time_samples'].values\n",
    "    stim_ends = stim_trials['stimulus_end'].values\n",
    "    stim_end_seconds = np.unique((stim_ends - stim_starts) / fs)[0]\n",
    "    if stim_ref == 'stim':\n",
    "        window = [period[0], stim_end_seconds + period[1]]\n",
    "    elif stim_ref == 'abs':\n",
    "        window = [period[0], period[1]]\n",
    "    raster_data = []\n",
    "    for trial, start in enumerate(stim_starts):\n",
    "        sptrain = get_spiketrain(rec, start, clusterID, spikes, window, fs)\n",
    "        raster_data.append(sptrain)\n",
    "    #ax = do_raster(raster_data, window, [0, stim_end_seconds], ntrials, ax, **kwargs)\n",
    "    return raster_data, stim_end_seconds"
   ]
  },
  {
   "cell_type": "code",
   "execution_count": null,
   "metadata": {},
   "outputs": [],
   "source": []
  },
  {
   "cell_type": "code",
   "execution_count": 11,
   "metadata": {},
   "outputs": [],
   "source": [
    "### get raster data for all clusters\n",
    "n_units = len(clusters)\n",
    "raster_data = []\n",
    "stim_end_seconds = [[None]*len(stims)]*n_units\n",
    "\n",
    "for i in range(len(clusters)):\n",
    "    r_cluster = []\n",
    "    for j in range(len(stims)):           \n",
    "        r_data, stim_end_seconds[i][j] = plot_raster_cell_stim(spikes, trials, clusters['cluster'][i], stims[j], [-2, 2], 0, 30000.0)\n",
    "        r_cluster.append(r_data)\n",
    "    raster_data.append(r_cluster)"
   ]
  },
  {
   "cell_type": "code",
   "execution_count": 12,
   "metadata": {},
   "outputs": [
    {
     "data": {
      "text/html": [
       "<div>\n",
       "<style scoped>\n",
       "    .dataframe tbody tr th:only-of-type {\n",
       "        vertical-align: middle;\n",
       "    }\n",
       "\n",
       "    .dataframe tbody tr th {\n",
       "        vertical-align: top;\n",
       "    }\n",
       "\n",
       "    .dataframe thead th {\n",
       "        text-align: right;\n",
       "    }\n",
       "</style>\n",
       "<table border=\"1\" class=\"dataframe\">\n",
       "  <thead>\n",
       "    <tr style=\"text-align: right;\">\n",
       "      <th></th>\n",
       "      <th>cluster</th>\n",
       "      <th>quality</th>\n",
       "    </tr>\n",
       "  </thead>\n",
       "  <tbody>\n",
       "    <tr>\n",
       "      <th>0</th>\n",
       "      <td>4</td>\n",
       "      <td>unsorted</td>\n",
       "    </tr>\n",
       "    <tr>\n",
       "      <th>1</th>\n",
       "      <td>6</td>\n",
       "      <td>unsorted</td>\n",
       "    </tr>\n",
       "    <tr>\n",
       "      <th>2</th>\n",
       "      <td>8</td>\n",
       "      <td>unsorted</td>\n",
       "    </tr>\n",
       "    <tr>\n",
       "      <th>3</th>\n",
       "      <td>9</td>\n",
       "      <td>unsorted</td>\n",
       "    </tr>\n",
       "    <tr>\n",
       "      <th>4</th>\n",
       "      <td>11</td>\n",
       "      <td>unsorted</td>\n",
       "    </tr>\n",
       "    <tr>\n",
       "      <th>5</th>\n",
       "      <td>13</td>\n",
       "      <td>unsorted</td>\n",
       "    </tr>\n",
       "    <tr>\n",
       "      <th>6</th>\n",
       "      <td>14</td>\n",
       "      <td>unsorted</td>\n",
       "    </tr>\n",
       "    <tr>\n",
       "      <th>7</th>\n",
       "      <td>16</td>\n",
       "      <td>unsorted</td>\n",
       "    </tr>\n",
       "    <tr>\n",
       "      <th>8</th>\n",
       "      <td>17</td>\n",
       "      <td>unsorted</td>\n",
       "    </tr>\n",
       "    <tr>\n",
       "      <th>9</th>\n",
       "      <td>18</td>\n",
       "      <td>unsorted</td>\n",
       "    </tr>\n",
       "    <tr>\n",
       "      <th>10</th>\n",
       "      <td>20</td>\n",
       "      <td>unsorted</td>\n",
       "    </tr>\n",
       "    <tr>\n",
       "      <th>11</th>\n",
       "      <td>23</td>\n",
       "      <td>unsorted</td>\n",
       "    </tr>\n",
       "    <tr>\n",
       "      <th>12</th>\n",
       "      <td>26</td>\n",
       "      <td>unsorted</td>\n",
       "    </tr>\n",
       "    <tr>\n",
       "      <th>13</th>\n",
       "      <td>27</td>\n",
       "      <td>unsorted</td>\n",
       "    </tr>\n",
       "    <tr>\n",
       "      <th>14</th>\n",
       "      <td>31</td>\n",
       "      <td>unsorted</td>\n",
       "    </tr>\n",
       "    <tr>\n",
       "      <th>15</th>\n",
       "      <td>33</td>\n",
       "      <td>unsorted</td>\n",
       "    </tr>\n",
       "    <tr>\n",
       "      <th>16</th>\n",
       "      <td>39</td>\n",
       "      <td>unsorted</td>\n",
       "    </tr>\n",
       "    <tr>\n",
       "      <th>17</th>\n",
       "      <td>41</td>\n",
       "      <td>unsorted</td>\n",
       "    </tr>\n",
       "    <tr>\n",
       "      <th>18</th>\n",
       "      <td>45</td>\n",
       "      <td>unsorted</td>\n",
       "    </tr>\n",
       "    <tr>\n",
       "      <th>19</th>\n",
       "      <td>46</td>\n",
       "      <td>unsorted</td>\n",
       "    </tr>\n",
       "    <tr>\n",
       "      <th>20</th>\n",
       "      <td>57</td>\n",
       "      <td>unsorted</td>\n",
       "    </tr>\n",
       "  </tbody>\n",
       "</table>\n",
       "</div>"
      ],
      "text/plain": [
       "    cluster   quality\n",
       "0         4  unsorted\n",
       "1         6  unsorted\n",
       "2         8  unsorted\n",
       "3         9  unsorted\n",
       "4        11  unsorted\n",
       "5        13  unsorted\n",
       "6        14  unsorted\n",
       "7        16  unsorted\n",
       "8        17  unsorted\n",
       "9        18  unsorted\n",
       "10       20  unsorted\n",
       "11       23  unsorted\n",
       "12       26  unsorted\n",
       "13       27  unsorted\n",
       "14       31  unsorted\n",
       "15       33  unsorted\n",
       "16       39  unsorted\n",
       "17       41  unsorted\n",
       "18       45  unsorted\n",
       "19       46  unsorted\n",
       "20       57  unsorted"
      ]
     },
     "execution_count": 12,
     "metadata": {},
     "output_type": "execute_result"
    }
   ],
   "source": [
    "clusters"
   ]
  },
  {
   "cell_type": "code",
   "execution_count": 13,
   "metadata": {},
   "outputs": [
    {
     "data": {
      "text/plain": [
       "[<matplotlib.collections.EventCollection at 0x7f9dc78a2d90>,\n",
       " <matplotlib.collections.EventCollection at 0x7f9dc85504d0>,\n",
       " <matplotlib.collections.EventCollection at 0x7f9dc78be490>,\n",
       " <matplotlib.collections.EventCollection at 0x7f9dc78beb90>,\n",
       " <matplotlib.collections.EventCollection at 0x7f9dc78c8210>,\n",
       " <matplotlib.collections.EventCollection at 0x7f9dc78c8950>,\n",
       " <matplotlib.collections.EventCollection at 0x7f9dc78d5410>,\n",
       " <matplotlib.collections.EventCollection at 0x7f9dc78d5fd0>,\n",
       " <matplotlib.collections.EventCollection at 0x7f9dc785d9d0>,\n",
       " <matplotlib.collections.EventCollection at 0x7f9dc78c8990>,\n",
       " <matplotlib.collections.EventCollection at 0x7f9dc78738d0>,\n",
       " <matplotlib.collections.EventCollection at 0x7f9dc787d650>,\n",
       " <matplotlib.collections.EventCollection at 0x7f9dc7885610>,\n",
       " <matplotlib.collections.EventCollection at 0x7f9dc7890350>,\n",
       " <matplotlib.collections.EventCollection at 0x7f9dc7898210>,\n",
       " <matplotlib.collections.EventCollection at 0x7f9dc78241d0>,\n",
       " <matplotlib.collections.EventCollection at 0x7f9dc782d310>,\n",
       " <matplotlib.collections.EventCollection at 0x7f9dc7838090>]"
      ]
     },
     "execution_count": 13,
     "metadata": {},
     "output_type": "execute_result"
    },
    {
     "data": {
      "image/png": "[encoded data removed]",
      "text/plain": [
       "<Figure size 1440x360 with 1 Axes>"
      ]
     },
     "metadata": {
      "needs_background": "light"
     },
     "output_type": "display_data"
    }
   ],
   "source": [
    "### change stim_end_seconds for different cells\n",
    "ntrials = len(trials)\n",
    "spike_linewidth=1.5\n",
    "spike_color='k'\n",
    "ax = plt.gca()\n",
    "ax.set_yticks(range(-1, ntrials-1))\n",
    "ax.figure.set_size_inches(20, 5)\n",
    "xposition = [0, stim_end_seconds[5][1]]\n",
    "for xc in xposition:\n",
    "    plt.axvline(x=xc, color='r', linestyle='-')\n",
    "ax.eventplot(raster_data[5][1], linewidths=spike_linewidth, colors=spike_color)"
   ]
  },
  {
   "cell_type": "markdown",
   "metadata": {},
   "source": [
    "# Get stimulus information"
   ]
  },
  {
   "cell_type": "code",
   "execution_count": 14,
   "metadata": {},
   "outputs": [],
   "source": [
    "### Confirm with Michael on how to find start and end time sof stimulus\n",
    "import pandas as pd\n",
    "d = []\n",
    "for s in stims:\n",
    "    ind = np.where(trials['stimulus'] == s)[0]\n",
    "    d.append({'name' : s, \n",
    "              'start_times' : [trials['time_samples'][i] for i in ind], \n",
    "              'end_times' : [trials['stimulus_end'][i] for i in ind],\n",
    "              'trial_start' : [trials['trial_start'][i] for i in ind], \n",
    "              'trial_end' : [trials['trial_end'][i] for i in ind],\n",
    "              'ntrials' : (list(trials['stimulus'])).count(s)})\n",
    "stim_data = pd.DataFrame(d)"
   ]
  },
  {
   "cell_type": "code",
   "execution_count": 15,
   "metadata": {},
   "outputs": [
    {
     "data": {
      "text/html": [
       "<div>\n",
       "<style scoped>\n",
       "    .dataframe tbody tr th:only-of-type {\n",
       "        vertical-align: middle;\n",
       "    }\n",
       "\n",
       "    .dataframe tbody tr th {\n",
       "        vertical-align: top;\n",
       "    }\n",
       "\n",
       "    .dataframe thead th {\n",
       "        text-align: right;\n",
       "    }\n",
       "</style>\n",
       "<table border=\"1\" class=\"dataframe\">\n",
       "  <thead>\n",
       "    <tr style=\"text-align: right;\">\n",
       "      <th></th>\n",
       "      <th>trial_start</th>\n",
       "      <th>trial_end</th>\n",
       "      <th>time_samples</th>\n",
       "      <th>stimulus_end</th>\n",
       "      <th>stimulus</th>\n",
       "    </tr>\n",
       "  </thead>\n",
       "  <tbody>\n",
       "    <tr>\n",
       "      <th>0</th>\n",
       "      <td>166364</td>\n",
       "      <td>1168056</td>\n",
       "      <td>168704</td>\n",
       "      <td>1169720</td>\n",
       "      <td>rmp5ms_G122-29.wav.sine</td>\n",
       "    </tr>\n",
       "    <tr>\n",
       "      <th>1</th>\n",
       "      <td>1361945</td>\n",
       "      <td>2694408</td>\n",
       "      <td>1364171</td>\n",
       "      <td>2696523</td>\n",
       "      <td>rmp5ms_180-12.wav.sine</td>\n",
       "    </tr>\n",
       "    <tr>\n",
       "      <th>2</th>\n",
       "      <td>2864073</td>\n",
       "      <td>3016614</td>\n",
       "      <td>2866414</td>\n",
       "      <td>3018905</td>\n",
       "      <td>5_P2165_s_16@1___P6211_s_52@1.wav.sine</td>\n",
       "    </tr>\n",
       "    <tr>\n",
       "      <th>3</th>\n",
       "      <td>3195413</td>\n",
       "      <td>3259484</td>\n",
       "      <td>3197753</td>\n",
       "      <td>3261559</td>\n",
       "      <td>2_N1211_s_04@1___M2165_s_20@1.wav.sine</td>\n",
       "    </tr>\n",
       "    <tr>\n",
       "      <th>4</th>\n",
       "      <td>3453963</td>\n",
       "      <td>3561223</td>\n",
       "      <td>3456304</td>\n",
       "      <td>3563501</td>\n",
       "      <td>4_G6165_s_26@1___G6165_s_26@1.wav.sine</td>\n",
       "    </tr>\n",
       "    <tr>\n",
       "      <th>...</th>\n",
       "      <td>...</td>\n",
       "      <td>...</td>\n",
       "      <td>...</td>\n",
       "      <td>...</td>\n",
       "      <td>...</td>\n",
       "    </tr>\n",
       "    <tr>\n",
       "      <th>1075</th>\n",
       "      <td>576724143</td>\n",
       "      <td>576791698</td>\n",
       "      <td>576726484</td>\n",
       "      <td>576793655</td>\n",
       "      <td>2_E6165_s_12@2___E6165_s_12@2.wav.sine</td>\n",
       "    </tr>\n",
       "    <tr>\n",
       "      <th>1076</th>\n",
       "      <td>576984826</td>\n",
       "      <td>577052379</td>\n",
       "      <td>576987165</td>\n",
       "      <td>577054279</td>\n",
       "      <td>2_B18211_s_58@2___B22165_s_22@2.wav.sine</td>\n",
       "    </tr>\n",
       "    <tr>\n",
       "      <th>1077</th>\n",
       "      <td>577241859</td>\n",
       "      <td>577306629</td>\n",
       "      <td>577244199</td>\n",
       "      <td>577308517</td>\n",
       "      <td>2_E7165_s_32@1___E6165_s_12@2.wav.sine</td>\n",
       "    </tr>\n",
       "    <tr>\n",
       "      <th>1078</th>\n",
       "      <td>577437689</td>\n",
       "      <td>577547736</td>\n",
       "      <td>577440029</td>\n",
       "      <td>577549637</td>\n",
       "      <td>3_ee_G105_s_05_@2___F2165_s_06@2.wav.sine</td>\n",
       "    </tr>\n",
       "    <tr>\n",
       "      <th>1079</th>\n",
       "      <td>577721701</td>\n",
       "      <td>577798312</td>\n",
       "      <td>577724042</td>\n",
       "      <td>577800047</td>\n",
       "      <td>2_N_G105_s_04_@2___M2165_s_20@1.wav.sine</td>\n",
       "    </tr>\n",
       "  </tbody>\n",
       "</table>\n",
       "<p>1080 rows × 5 columns</p>\n",
       "</div>"
      ],
      "text/plain": [
       "      trial_start  trial_end  time_samples  stimulus_end  \\\n",
       "0          166364    1168056        168704       1169720   \n",
       "1         1361945    2694408       1364171       2696523   \n",
       "2         2864073    3016614       2866414       3018905   \n",
       "3         3195413    3259484       3197753       3261559   \n",
       "4         3453963    3561223       3456304       3563501   \n",
       "...           ...        ...           ...           ...   \n",
       "1075    576724143  576791698     576726484     576793655   \n",
       "1076    576984826  577052379     576987165     577054279   \n",
       "1077    577241859  577306629     577244199     577308517   \n",
       "1078    577437689  577547736     577440029     577549637   \n",
       "1079    577721701  577798312     577724042     577800047   \n",
       "\n",
       "                                       stimulus  \n",
       "0                       rmp5ms_G122-29.wav.sine  \n",
       "1                        rmp5ms_180-12.wav.sine  \n",
       "2        5_P2165_s_16@1___P6211_s_52@1.wav.sine  \n",
       "3        2_N1211_s_04@1___M2165_s_20@1.wav.sine  \n",
       "4        4_G6165_s_26@1___G6165_s_26@1.wav.sine  \n",
       "...                                         ...  \n",
       "1075     2_E6165_s_12@2___E6165_s_12@2.wav.sine  \n",
       "1076   2_B18211_s_58@2___B22165_s_22@2.wav.sine  \n",
       "1077     2_E7165_s_32@1___E6165_s_12@2.wav.sine  \n",
       "1078  3_ee_G105_s_05_@2___F2165_s_06@2.wav.sine  \n",
       "1079   2_N_G105_s_04_@2___M2165_s_20@1.wav.sine  \n",
       "\n",
       "[1080 rows x 5 columns]"
      ]
     },
     "execution_count": 15,
     "metadata": {},
     "output_type": "execute_result"
    }
   ],
   "source": [
    "trials"
   ]
  },
  {
   "cell_type": "markdown",
   "metadata": {},
   "source": [
    "# Get toe data, toes"
   ]
  },
  {
   "cell_type": "code",
   "execution_count": 16,
   "metadata": {},
   "outputs": [],
   "source": [
    "### make cluster_stim_data dataframe, one for each cluster\n",
    "### name, ntrials, stim_start_times, stim_end_times, trial_start_times, trial_end_times, toes\n",
    "d_stim = []\n",
    "for i in range(len(clusters)):\n",
    "    d_stim.append({'name':list(stims), \n",
    "                   'ntrials':stim_data['ntrials'].tolist(), \n",
    "                   'stim_start_times':stim_data['start_times'].tolist(), \n",
    "                   'stim_end_times':stim_data['end_times'].tolist(), \n",
    "                   'trial_start_times':stim_data['trial_start'].tolist(), \n",
    "                   'trial_end_times':stim_data['trial_end'].tolist(), \n",
    "                   'toes':raster_data[i]})\n",
    "cluster_stim_data = pd.DataFrame(d_stim)\n",
    "cluster_stim_data = cluster_stim_data.to_dict(orient='index')"
   ]
  },
  {
   "cell_type": "code",
   "execution_count": 17,
   "metadata": {},
   "outputs": [],
   "source": [
    "### make toe_data pandas dataframe, one for each cluster\n",
    "### cluster id, sort class, fs, stims, all_spikes\n",
    "d1 = []\n",
    "for i in range(len(clusters)):\n",
    "    ind = np.where(np.array(spikes['cluster']) == i+1)[0]\n",
    "    d1.append({'id':clusters['cluster'][i], \n",
    "               'sort_class':clusters['quality'][i], \n",
    "               'fs':30000, \n",
    "               'stims':cluster_stim_data[i], \n",
    "               'all_spikes':[spikes['time_samples'][j] for j in ind]})\n",
    "toe_data = pd.DataFrame(d1)\n",
    "toe_data = toe_data.to_dict(orient='id')"
   ]
  },
  {
   "cell_type": "markdown",
   "metadata": {},
   "source": [
    "# Stim prep"
   ]
  },
  {
   "cell_type": "code",
   "execution_count": 18,
   "metadata": {},
   "outputs": [],
   "source": [
    "from ipywidgets import interact, interactive, fixed\n",
    "\n",
    "from glob import glob\n",
    "from joblib import Parallel, delayed\n",
    "\n",
    "import imp\n",
    "folder_utils = imp.load_source('folder_utils', r'/mnt/cube/srrudrar/folder_utils.py')\n",
    "ensure_folder_exists = folder_utils.ensure_folder_exists\n",
    "\n",
    "import h5py, os\n",
    "import matplotlib.pyplot as plt\n",
    "%matplotlib inline\n",
    "\n",
    "import librosa\n",
    "import librosa.filters\n",
    "import numpy as np\n",
    "\n",
    "import scipy as sp\n",
    "from scipy import signal\n",
    "from scipy.signal import butter, lfilter, spectrogram\n",
    "from scipy.io import wavfile\n",
    "import IPython.display\n",
    "\n",
    "import matplotlib.pyplot as plt"
   ]
  },
  {
   "cell_type": "code",
   "execution_count": 19,
   "metadata": {},
   "outputs": [],
   "source": [
    "import re\n",
    "for i in range(len(stims)):\n",
    "    stims[i] = re.sub('\\.sine$', '', stims[i])"
   ]
  },
  {
   "cell_type": "code",
   "execution_count": 20,
   "metadata": {},
   "outputs": [
    {
     "data": {
      "text/plain": [
       "array(['rmp5ms_G122-29.wav', 'rmp5ms_180-12.wav',\n",
       "       '5_P2165_s_16@1___P6211_s_52@1.wav',\n",
       "       '2_N1211_s_04@1___M2165_s_20@1.wav',\n",
       "       '4_G6165_s_26@1___G6165_s_26@1.wav',\n",
       "       '4_B8165_s_26@1___B6211_s_08@1.wav',\n",
       "       '4_A3+B3165_s_13@1___A3+B3165_s_13@1.wav',\n",
       "       '3_G2211_s_09@2___G2211_s_09@2.wav',\n",
       "       '1_E6211_s_13@1___E2165_s_12@4.wav',\n",
       "       '3_D6211_s_15@1___D6211_s_15@1.wav',\n",
       "       '2_N_G105_s_04_@2___N1211_s_04@1.wav',\n",
       "       '1_B18211_s_58@2___B12165_s_48@1.wav', 'rmp5ms_G124-1.wav',\n",
       "       'rmp5ms_181-11.wav', '2_J22165_s_59@1___J32165_s_35@1.wav',\n",
       "       '3_ff1_G105_s_06_@1___ff1_G105_s_06_@1.wav',\n",
       "       '3_T_G105_s_04_@2___T_G105_s_04_@2.wav', 'rmp5ms_G124-17.wav',\n",
       "       '3_M_G105_s_06_@1___M_G105_s_06_@1.wav',\n",
       "       '4_R_G105_s_06_@1___R_G105_s_06_@1.wav',\n",
       "       '2_E6165_s_12@2___E6165_s_12@2.wav',\n",
       "       '3_Q6211_s_29@1___Q2211_s_05@2.wav',\n",
       "       '3_aa_G105_s_08_@2___aa_G105_s_08_@2.wav',\n",
       "       '4_O2165_s_18@2___P_G105_s_07_@1.wav',\n",
       "       '2_B18211_s_58@2___B22165_s_22@2.wav',\n",
       "       '4_Z3165_s_09@1___Z3165_s_09@1.wav', 'rmp5ms_181-15.wav',\n",
       "       '3_E6211_s_13@1___E6211_s_13@1.wav',\n",
       "       '4_U1211_s_48@1___R1211_s_16@2.wav', 'rmp5ms_181-17.wav',\n",
       "       '3_K1_G105_s_04_@1___K2165_s_06@2.wav',\n",
       "       '3_C29165_s_29@1___C29165_s_29@1.wav',\n",
       "       '4_C29165_s_29@1___C29165_s_29@1.wav',\n",
       "       '3_F1211_s_04@2___F1211_s_04@2.wav',\n",
       "       '3_aa_G105_s_08_@2___A62165_s_62@1.wav', 'rmp5ms_181-27.wav',\n",
       "       '5_D2165_s_20@3___D6211_s_15@1.wav',\n",
       "       '5_Q6211_s_29@1___Q2211_s_05@2.wav',\n",
       "       '3_L2_G105_s_01_@1___L6211_s_20@2.wav',\n",
       "       '4_B22165_s_22@2___B12165_s_48@1.wav', 'rmp5ms_181-36.wav',\n",
       "       '3_L1_G105_s_06_@1___L1_G105_s_06_@1.wav',\n",
       "       '3_A62165_s_62@1___A62165_s_62@1.wav',\n",
       "       '2_A62165_s_62@1___B_G105_s_03_@1.wav',\n",
       "       '4_D1211_s_04@2___D6165_s_16@1.wav',\n",
       "       '3_N1211_s_04@1___N1211_s_04@1.wav',\n",
       "       '2_K_G105_s_05_@1___J6211_s_13@2.wav',\n",
       "       '2_N_G105_s_04_@2___M2165_s_20@1.wav',\n",
       "       '4_R1211_s_16@2___Q6211_s_29@1.wav',\n",
       "       '3_ee_G105_s_05_@2___F2165_s_06@2.wav',\n",
       "       '4_B22211_s_59@1___B22211_s_59@1.wav',\n",
       "       '1_aa_G105_s_08_@2___B2165_s_03@3.wav', 'rmp5ms_180-54.wav',\n",
       "       '3_Y1_G105_s_02_@2___Y1_G105_s_02_@2.wav',\n",
       "       '2_A62165_s_62@1___Z24211_s_24@1.wav',\n",
       "       '4_I1211_s_04@1___I1211_s_04@1.wav', 'rmp5ms_G122-18.wav',\n",
       "       '3_J1211_s_03@2___J1211_s_03@2.wav',\n",
       "       '2_D7165_s_07@2___D7165_s_07@2.wav',\n",
       "       '2_E7165_s_32@1___E6165_s_12@2.wav'], dtype=object)"
      ]
     },
     "execution_count": 20,
     "metadata": {},
     "output_type": "execute_result"
    }
   ],
   "source": [
    "stims"
   ]
  },
  {
   "cell_type": "code",
   "execution_count": 21,
   "metadata": {},
   "outputs": [],
   "source": [
    "### Write a better way to get spectrograms\n",
    "### Get spectrogram\n",
    "import os\n",
    "stim_folder = '/home/AD/srrudrar/pyMNE/mturz_stim/'\n",
    "#stim_folder = '/mnt/cube/mturvz/analysis/sorted_experiments/0227/20181116/'\n",
    "\n",
    "T = []\n",
    "P = []\n",
    "P_all = []\n",
    "nfft = 128\n",
    "\n",
    "for i in range(len(stims)):\n",
    "    rate, data = wavfile.read(os.path.join(stim_folder, stims[i]))\n",
    "    #spec = spectrogram(data, hparams)\n",
    "    (f, t_stim, P_stim) = sp.signal.spectrogram(data, fs = 48000, nfft = 128, \n",
    "                                            window = np.hanning(nfft), noverlap = 0.5*nfft)\n",
    "    #P_stims, freqs, bins, im = plt.specgram(data[:,0], nfft = 128, fs = 48000, noverlap = 0.5*nfft)\n",
    "    P.append(P_stim)\n",
    "    T.append(t_stim)\n",
    "P_all = np.hstack(P)"
   ]
  },
  {
   "cell_type": "code",
   "execution_count": 22,
   "metadata": {},
   "outputs": [],
   "source": [
    "Nf = 16       # number of frequency bands in STRF\n",
    "Nlags = 20    # number of times/lags\n",
    "order   = 2   # order of MNE model to fit: order 1=linear part of equation,  order=2: linear and non linear parts\n",
    "fittype = 0   # to intialize: 0 for regular fitting, 1 for random fitting  \n",
    "njack   = 4\n",
    "Nd = 4"
   ]
  },
  {
   "cell_type": "code",
   "execution_count": 23,
   "metadata": {},
   "outputs": [],
   "source": [
    "### Please write better code than this ! :/\n",
    "from scipy import stats\n",
    "P_all_mean = np.empty([16,np.shape(P_all)[1]])\n",
    "for i in range(16):\n",
    "    P_all_mean[i,:] = np.mean((20 * np.log(P_all))[4*i:(4*(i+1))-1 , :], axis = 0)\n",
    "\n",
    "tsamples = int(np.shape(P_all)[1]/8)\n",
    "P_mean = np.empty([16,tsamples])\n",
    "for i in range(tsamples):\n",
    "    P_mean[:,i] = np.mean(P_all_mean[: , 8*i:(8*(i+1))-1], axis = 1)"
   ]
  },
  {
   "cell_type": "code",
   "execution_count": 24,
   "metadata": {},
   "outputs": [],
   "source": [
    "stimulus = stats.zscore(P_mean)\n",
    "[Ndim, Nsamples] = np.shape(stimulus)"
   ]
  },
  {
   "cell_type": "code",
   "execution_count": 25,
   "metadata": {},
   "outputs": [],
   "source": [
    "if Nlags > 1:\n",
    "    Nsamples_lag = Nsamples - Nlags + 1    #total length of stimulus minus 19 time bins (16000=16119-(20-1))\n",
    "    Ndimtotal = Ndim * Nlags           #16x20\n",
    "    stim = stimulus[:,0:Nsamples_lag]\n",
    "    for i in range(1,Nlags):\n",
    "        stim = np.vstack((stim, stimulus[:,i:Nsamples_lag+i])) \n",
    "else:\n",
    "    stim = stimulus        "
   ]
  },
  {
   "cell_type": "markdown",
   "metadata": {},
   "source": [
    "# Resp prep"
   ]
  },
  {
   "cell_type": "code",
   "execution_count": 26,
   "metadata": {},
   "outputs": [
    {
     "data": {
      "text/html": [
       "<div>\n",
       "<style scoped>\n",
       "    .dataframe tbody tr th:only-of-type {\n",
       "        vertical-align: middle;\n",
       "    }\n",
       "\n",
       "    .dataframe tbody tr th {\n",
       "        vertical-align: top;\n",
       "    }\n",
       "\n",
       "    .dataframe thead th {\n",
       "        text-align: right;\n",
       "    }\n",
       "</style>\n",
       "<table border=\"1\" class=\"dataframe\">\n",
       "  <thead>\n",
       "    <tr style=\"text-align: right;\">\n",
       "      <th></th>\n",
       "      <th>cluster</th>\n",
       "      <th>quality</th>\n",
       "    </tr>\n",
       "  </thead>\n",
       "  <tbody>\n",
       "    <tr>\n",
       "      <th>0</th>\n",
       "      <td>4</td>\n",
       "      <td>unsorted</td>\n",
       "    </tr>\n",
       "    <tr>\n",
       "      <th>1</th>\n",
       "      <td>6</td>\n",
       "      <td>unsorted</td>\n",
       "    </tr>\n",
       "    <tr>\n",
       "      <th>2</th>\n",
       "      <td>8</td>\n",
       "      <td>unsorted</td>\n",
       "    </tr>\n",
       "    <tr>\n",
       "      <th>3</th>\n",
       "      <td>9</td>\n",
       "      <td>unsorted</td>\n",
       "    </tr>\n",
       "    <tr>\n",
       "      <th>4</th>\n",
       "      <td>11</td>\n",
       "      <td>unsorted</td>\n",
       "    </tr>\n",
       "    <tr>\n",
       "      <th>5</th>\n",
       "      <td>13</td>\n",
       "      <td>unsorted</td>\n",
       "    </tr>\n",
       "    <tr>\n",
       "      <th>6</th>\n",
       "      <td>14</td>\n",
       "      <td>unsorted</td>\n",
       "    </tr>\n",
       "    <tr>\n",
       "      <th>7</th>\n",
       "      <td>16</td>\n",
       "      <td>unsorted</td>\n",
       "    </tr>\n",
       "    <tr>\n",
       "      <th>8</th>\n",
       "      <td>17</td>\n",
       "      <td>unsorted</td>\n",
       "    </tr>\n",
       "    <tr>\n",
       "      <th>9</th>\n",
       "      <td>18</td>\n",
       "      <td>unsorted</td>\n",
       "    </tr>\n",
       "    <tr>\n",
       "      <th>10</th>\n",
       "      <td>20</td>\n",
       "      <td>unsorted</td>\n",
       "    </tr>\n",
       "    <tr>\n",
       "      <th>11</th>\n",
       "      <td>23</td>\n",
       "      <td>unsorted</td>\n",
       "    </tr>\n",
       "    <tr>\n",
       "      <th>12</th>\n",
       "      <td>26</td>\n",
       "      <td>unsorted</td>\n",
       "    </tr>\n",
       "    <tr>\n",
       "      <th>13</th>\n",
       "      <td>27</td>\n",
       "      <td>unsorted</td>\n",
       "    </tr>\n",
       "    <tr>\n",
       "      <th>14</th>\n",
       "      <td>31</td>\n",
       "      <td>unsorted</td>\n",
       "    </tr>\n",
       "    <tr>\n",
       "      <th>15</th>\n",
       "      <td>33</td>\n",
       "      <td>unsorted</td>\n",
       "    </tr>\n",
       "    <tr>\n",
       "      <th>16</th>\n",
       "      <td>39</td>\n",
       "      <td>unsorted</td>\n",
       "    </tr>\n",
       "    <tr>\n",
       "      <th>17</th>\n",
       "      <td>41</td>\n",
       "      <td>unsorted</td>\n",
       "    </tr>\n",
       "    <tr>\n",
       "      <th>18</th>\n",
       "      <td>45</td>\n",
       "      <td>unsorted</td>\n",
       "    </tr>\n",
       "    <tr>\n",
       "      <th>19</th>\n",
       "      <td>46</td>\n",
       "      <td>unsorted</td>\n",
       "    </tr>\n",
       "    <tr>\n",
       "      <th>20</th>\n",
       "      <td>57</td>\n",
       "      <td>unsorted</td>\n",
       "    </tr>\n",
       "  </tbody>\n",
       "</table>\n",
       "</div>"
      ],
      "text/plain": [
       "    cluster   quality\n",
       "0         4  unsorted\n",
       "1         6  unsorted\n",
       "2         8  unsorted\n",
       "3         9  unsorted\n",
       "4        11  unsorted\n",
       "5        13  unsorted\n",
       "6        14  unsorted\n",
       "7        16  unsorted\n",
       "8        17  unsorted\n",
       "9        18  unsorted\n",
       "10       20  unsorted\n",
       "11       23  unsorted\n",
       "12       26  unsorted\n",
       "13       27  unsorted\n",
       "14       31  unsorted\n",
       "15       33  unsorted\n",
       "16       39  unsorted\n",
       "17       41  unsorted\n",
       "18       45  unsorted\n",
       "19       46  unsorted\n",
       "20       57  unsorted"
      ]
     },
     "execution_count": 26,
     "metadata": {},
     "output_type": "execute_result"
    }
   ],
   "source": [
    "clusters"
   ]
  },
  {
   "cell_type": "code",
   "execution_count": 27,
   "metadata": {},
   "outputs": [],
   "source": [
    "cellnum = 13\n",
    "toedata_ind = pd.Index(list(clusters['cluster'])).get_loc(cellnum)"
   ]
  },
  {
   "cell_type": "code",
   "execution_count": 28,
   "metadata": {},
   "outputs": [],
   "source": [
    "toes_stim = []\n",
    "for i in range(len(stims)):\n",
    "    toes_stim.append(toe_data[toedata_ind]['stims']['toes'][i])"
   ]
  },
  {
   "cell_type": "code",
   "execution_count": 29,
   "metadata": {},
   "outputs": [],
   "source": [
    "### create trial average of every 5 trials for all stim \n",
    "### how many trials in this case\n",
    "Nlags = 20\n",
    "Nf = 16"
   ]
  },
  {
   "cell_type": "code",
   "execution_count": 30,
   "metadata": {},
   "outputs": [],
   "source": [
    "resp = []\n",
    "for s in range(len(stims)):\n",
    "    bin_time = T[s][2] - T[s][1]\n",
    "    resp_stim = np.zeros(shape=(stim_data['ntrials'][s] , np.shape(P[s])[1]))\n",
    "    for k in range(stim_data['ntrials'][s]):\n",
    "        toes_this_trial = []\n",
    "        toes_this_trial = toes_stim[s][k]\n",
    "        for m in range(len(toes_this_trial)):\n",
    "            if toes_this_trial[m] > 0 and  toes_this_trial[m] < T[s][-1]:\n",
    "                resp_stim[k , int(toes_this_trial[m]/bin_time)] = resp_stim[k , int(toes_this_trial[m]/bin_time)] + 1\n",
    "                #resp_1(k,round(A_1(m_1).*timetobin_1)) = resp_1(1,round(A_1(m_1).*timetobin_1)) + 1;\n",
    "    resp.append(list(resp_stim))"
   ]
  },
  {
   "cell_type": "code",
   "execution_count": 31,
   "metadata": {},
   "outputs": [
    {
     "data": {
      "text/plain": [
       "-420.32499999999993"
      ]
     },
     "execution_count": 31,
     "metadata": {},
     "output_type": "execute_result"
    }
   ],
   "source": [
    "(toes_this_trial[2]/bin_time)"
   ]
  },
  {
   "cell_type": "code",
   "execution_count": 34,
   "metadata": {},
   "outputs": [
    {
     "data": {
      "text/plain": [
       "(-1.0776666666666668,\n",
       " -0.5788333333333333,\n",
       " -0.5604333333333333,\n",
       " 0.046966666666666664)"
      ]
     },
     "execution_count": 34,
     "metadata": {},
     "output_type": "execute_result"
    }
   ],
   "source": [
    "toes_this_trial[0], toes_this_trial[1], toes_this_trial[2], toes_this_trial[3]"
   ]
  },
  {
   "cell_type": "code",
   "execution_count": null,
   "metadata": {},
   "outputs": [],
   "source": []
  },
  {
   "cell_type": "code",
   "execution_count": 35,
   "metadata": {},
   "outputs": [
    {
     "data": {
      "text/plain": [
       "-0.5788333333333333"
      ]
     },
     "execution_count": 35,
     "metadata": {},
     "output_type": "execute_result"
    }
   ],
   "source": [
    "toes_this_trial[1]"
   ]
  },
  {
   "cell_type": "code",
   "execution_count": 36,
   "metadata": {},
   "outputs": [
    {
     "data": {
      "text/plain": [
       "750.0"
      ]
     },
     "execution_count": 36,
     "metadata": {},
     "output_type": "execute_result"
    }
   ],
   "source": [
    "np.shape(P[s])[1] / T[s][-1]"
   ]
  },
  {
   "cell_type": "code",
   "execution_count": 37,
   "metadata": {},
   "outputs": [],
   "source": [
    "for i in range(len(stims)):\n",
    "    if len(resp[i]) == 2:\n",
    "        resp[i].append(resp[i][1])\n",
    "    if len(resp[i]) == 1:\n",
    "        resp[i].append(resp[i][0])\n",
    "        resp[i].append(resp[i][0])"
   ]
  },
  {
   "cell_type": "code",
   "execution_count": 38,
   "metadata": {},
   "outputs": [
    {
     "name": "stderr",
     "output_type": "stream",
     "text": [
      "/home/srrudrar/anaconda3/envs/tensorflow2/lib/python3.7/site-packages/ipykernel_launcher.py:3: FutureWarning: arrays to stack must be passed as a \"sequence\" type such as list or tuple. Support for non-sequence iterables such as generators is deprecated as of NumPy 1.16 and will raise an error in the future.\n",
      "  This is separate from the ipykernel package so we can avoid doing imports until\n"
     ]
    }
   ],
   "source": [
    "resp_123 = [None]*3\n",
    "for i in range(3):\n",
    "    resp_123[i] = np.hstack(resp[j][i] for j in range(len(stims)))"
   ]
  },
  {
   "cell_type": "code",
   "execution_count": 39,
   "metadata": {},
   "outputs": [],
   "source": [
    "### downsample stimuli\n",
    "resp_123_downsize = np.empty([3,tsamples])\n",
    "for j in range(3):\n",
    "    for i in range(tsamples):\n",
    "        resp_123_downsize[j][i] = np.mean(resp_123[j][8*i:(8*(i+1))-1])"
   ]
  },
  {
   "cell_type": "code",
   "execution_count": 40,
   "metadata": {},
   "outputs": [],
   "source": [
    "a = np.mean(resp_123_downsize, axis=0)\n",
    "response = a[Nlags-1:]/(np.amax(a[Nlags:]))"
   ]
  },
  {
   "cell_type": "markdown",
   "metadata": {},
   "source": [
    "# Run MNE"
   ]
  },
  {
   "cell_type": "code",
   "execution_count": 41,
   "metadata": {},
   "outputs": [],
   "source": [
    "masterstim = np.transpose(stim)    #104040x320\n",
    "masterresp = response    #104040x1\n",
    "master_samples = len(masterstim)"
   ]
  },
  {
   "cell_type": "code",
   "execution_count": 42,
   "metadata": {},
   "outputs": [],
   "source": [
    "njack = 4\n",
    "Ntest = int(master_samples/njack)"
   ]
  },
  {
   "cell_type": "code",
   "execution_count": 43,
   "metadata": {},
   "outputs": [
    {
     "data": {
      "text/plain": [
       "'Starting optimization'"
      ]
     },
     "metadata": {},
     "output_type": "display_data"
    }
   ],
   "source": [
    "#####\n",
    "jack = 3\n",
    "Ntest = int(master_samples/njack)    #  rounds the Ntest to the nearest integers \n",
    "ind = range(jack*Ntest,(jack+1)*Ntest)\n",
    "teststim = masterstim[jack*Ntest : (jack+1)*Ntest, :]\n",
    "testresp = masterresp[jack*Ntest : (jack+1)*Ntest]\n",
    "trainstim = np.delete(masterstim, ind, axis = 0) \n",
    "trainresp = np.delete(masterresp, ind)\n",
    "\n",
    "# Start optimization: look for highest P(resp/stim)=1/(1+exp(a+sh+s^t*J*s)^-1\n",
    "display('Starting optimization')\n",
    "#tic()\n",
    "#celltype = '';  #ignore this"
   ]
  },
  {
   "cell_type": "code",
   "execution_count": 44,
   "metadata": {},
   "outputs": [],
   "source": [
    "#MNEfit(stim, resp, teststim, testresp, celltype, cellnum, jack, order, Nd, fittype);\n",
    "[Nsamples_2,Ndim_2] = np.shape(trainstim)\n",
    "psp = np.mean(trainresp)   #constant parameter a\n",
    "avg = (np.dot(np.transpose(trainstim),trainresp))/Nsamples_2  # h: linear\n",
    "avgs = np.concatenate(([psp],avg), axis = 0)\n",
    "\n",
    "if order>1:\n",
    "    a = np.transpose(matlib.repmat(trainresp,Ndim_2,1))\n",
    "    b = np.multiply(a,trainstim)\n",
    "    avgsqrd = np.dot(np.transpose(trainstim),b)/Nsamples_2  #Ndim x Ndim (320x320)\n",
    "    avgsqrd = avgsqrd.flatten()\n",
    "    avgs = np.concatenate((avgs,avgsqrd), axis = 0)\n",
    "\n",
    "pstart = np.empty(np.shape(avgs))\n",
    "pstart[0] = math.log((1/avgs[0]) - 1)     #pstart(a)\n",
    "random = np.random.rand(Ndim_2)\n",
    "pstart[1:Ndim_2+1] = 0.001*((2*random)-1)\n",
    "if order>1:\n",
    "    random1 = np.random.rand(Ndim_2,Ndim_2)\n",
    "    temp = 0.001*((2*random1)-1)          #pstart(J)\n",
    "    pstart[Ndim_2+1:] = (temp+np.transpose(temp)).reshape([1,Ndim_2**2])\n",
    "    del temp"
   ]
  },
  {
   "cell_type": "code",
   "execution_count": 45,
   "metadata": {},
   "outputs": [],
   "source": [
    "#def log_loss(self, p, stim, resp):\n",
    "def log_loss(p, *args):\n",
    "    #get p into correct form:\n",
    "    p = np.matrix(p)\n",
    "    stim, resp, order = args\n",
    "    \n",
    "    #get number of samples and dimensionality of stimulus\n",
    "    Nsamples = np.size(stim,0)\n",
    "    Ndim = np.size(stim,1)\n",
    "    \n",
    "    #unpack p: (var names match names in Fitzgerald paper)\n",
    "    a = p[0,0]\n",
    "    h = p[0,1:Ndim+1]\n",
    "    \n",
    "    #case: second order calculation --> need J\n",
    "    if(order > 1):\n",
    "        J_squash = p[0,Ndim+1:Ndim+2+Ndim**2]   \n",
    "        #reshape J into Ndim x Ndim matrix:\n",
    "        J = np.reshape(J_squash,(Ndim,Ndim)) #matrix?\n",
    "    \n",
    "    if(order == 1):\n",
    "        f1 = 1 + np.exp(a + stim * h.T)\n",
    "        f0 = 1 + np.exp(-a - stim * h.T)\n",
    "    else:\n",
    "        f1 = 1 + np.exp(np.array(np.ones(Nsamples)*a) + np.array(stim * h.T)[:,0] + (np.sum(np.array(stim)*np.array(stim*J),1)))\n",
    "        f0 = 1 + np.exp(-np.array(np.ones(Nsamples)*a) - np.array(stim * h.T)[:,0] - (np.sum(np.array(stim)*np.array(stim*J),1)))\n",
    "    \n",
    "    #print 'f1'\n",
    "    #print f1\n",
    "    F1 = np.array(resp) * np.log(np.array(f1))\n",
    "    #print F1\n",
    "    #print 'f0'\n",
    "    #print f0\n",
    "    F0 = (1 - np.array(resp)) * np.log(np.array(f0)) \n",
    "    #print F0\n",
    "    F1[np.isnan(F1)] = 0\n",
    "    F0[np.isnan(F0)] = 0\n",
    "    #print 'ave entropy'\n",
    "    #print np.mean(F0 + F1)\n",
    "    return np.mean(F0 + F1)   # f = mean(F0 + F1)"
   ]
  },
  {
   "cell_type": "code",
   "execution_count": 46,
   "metadata": {},
   "outputs": [],
   "source": [
    "#def d_log_loss(self, p, stim, avgs):\n",
    "def d_log_loss(p, *args):\n",
    "    #get p into correct form:\n",
    "    p = np.matrix(p)\n",
    "    stim, avgs, order = args\n",
    "    \n",
    "    Nsamples = np.size(stim,0)\n",
    "    Ndim = np.size(stim,1)\n",
    "    \n",
    "    #unpack p: (var names match names in Fitzgerald paper)\n",
    "    a = p[0,0]\n",
    "    h = p[0,1:Ndim+1]\n",
    "    \n",
    "    #case: second order calculation --> need J\n",
    "    if(order > 1):\n",
    "        J_squash = p[0,Ndim+1:Ndim+2+Ndim**2]\n",
    "        #reshape J into Ndim x Ndim matrix:\n",
    "        J = np.reshape(J_squash,(Ndim,Ndim))\n",
    "   \n",
    "        '''\n",
    "        Review what is happening from here on...\n",
    "        ''' \n",
    "      \n",
    "    if(order == 1):\n",
    "        pSpike = 1/(1 + np.exp(a + stim * h.T)) #Nsamples x 1\n",
    "        averages = np.zeros(Ndim+1)\n",
    "        averages[0] = np.mean(pSpike)\n",
    "        averages[1:] = np.array(stim.T*pSpike)[:,0]/Nsamples #Nsamples x 1\n",
    "    else: #assume order = 2\n",
    "        pSpike = 1 / (1 + np.exp(np.array(np.ones(Nsamples)*a) + np.array(stim * h.T)[:,0] + (np.sum(np.array(stim)*np.array(stim*J),1))))\n",
    "        averages = np.zeros(np.size(p))\n",
    "        averages[0] = np.mean(pSpike)\n",
    "        averages[1:Ndim+1] = np.array(stim.T*np.matrix(pSpike).T)[:,0]/Nsamples #ave number of spikes for each stim dimension\n",
    "        temp = (stim.T .dot((np.array(np.tile(pSpike,(Ndim,1))).T * np.array(stim))))/Nsamples  #ave number of spikes for each stim correlation\n",
    "        temp = np.reshape(temp,[Ndim**2,1])\n",
    "        averages[Ndim+1:Ndim+1+Ndim**2] = np.array(temp)[:,0]\n",
    "    \n",
    "    #print 'average differences:'\n",
    "    #print np.array(avgs)[:,0] - averages\n",
    "        \n",
    "    return np.array(avgs - averages)"
   ]
  },
  {
   "cell_type": "code",
   "execution_count": 47,
   "metadata": {},
   "outputs": [
    {
     "name": "stdout",
     "output_type": "stream",
     "text": [
      "Optimization terminated successfully.\n",
      "         Current function value: 0.006223\n",
      "         Iterations: 1860\n",
      "         Function evaluations: 3059\n",
      "         Gradient evaluations: 3059\n"
     ]
    }
   ],
   "source": [
    "import logLossFuncs as mnefunc\n",
    "import scipy.optimize as opt\n",
    "#pfinal = opt.fmin_cg(f,pstart,fprime=gradf)\n",
    "#mean = mnefunc.log_loss(pstart, trainstim, trainresp, order)\n",
    "\n",
    "LL_train = lambda p: log_loss(p, trainstim, trainresp, order)\n",
    "dLL_train = lambda p: d_log_loss(p, trainstim, avgs, order)\n",
    "\n",
    "\n",
    "pfinal = opt.fmin_cg(LL_train,pstart,fprime=dLL_train)"
   ]
  },
  {
   "cell_type": "code",
   "execution_count": 48,
   "metadata": {},
   "outputs": [
    {
     "data": {
      "text/plain": [
       "array([ 5.44336796e+00,  2.58106958e-03,  3.17060507e-02, ...,\n",
       "        3.67242985e-03, -1.68469587e-02, -2.72987566e-02])"
      ]
     },
     "execution_count": 48,
     "metadata": {},
     "output_type": "execute_result"
    }
   ],
   "source": [
    "pfinal"
   ]
  },
  {
   "cell_type": "code",
   "execution_count": 49,
   "metadata": {},
   "outputs": [
    {
     "ename": "SyntaxError",
     "evalue": "invalid syntax (<ipython-input-49-c9b57db38e97>, line 2)",
     "output_type": "error",
     "traceback": [
      "\u001b[0;36m  File \u001b[0;32m\"<ipython-input-49-c9b57db38e97>\"\u001b[0;36m, line \u001b[0;32m2\u001b[0m\n\u001b[0;31m    display(['Optimization took ' num2str(toc/60) ' minutes']);\u001b[0m\n\u001b[0m                                        ^\u001b[0m\n\u001b[0;31mSyntaxError\u001b[0m\u001b[0;31m:\u001b[0m invalid syntax\n"
     ]
    }
   ],
   "source": [
    "### Fix clock, display\n",
    "display(['Optimization took ' num2str(toc/60) ' minutes']);"
   ]
  },
  {
   "cell_type": "code",
   "execution_count": 50,
   "metadata": {},
   "outputs": [],
   "source": [
    "h=pfinal[1:Nlags*Nf+1]\n",
    "J=pfinal[Nlags*Nf+1:]  #covariance matrix\n",
    "[V,D] = np.linalg.eig(reshape(J,(Nlags*Nf,Nlags*Nf)))  #eigenvalues and eigenvectors"
   ]
  },
  {
   "cell_type": "code",
   "execution_count": 51,
   "metadata": {},
   "outputs": [],
   "source": [
    "index = np.argsort(V)"
   ]
  },
  {
   "cell_type": "code",
   "execution_count": 52,
   "metadata": {},
   "outputs": [
    {
     "data": {
      "text/plain": [
       "<matplotlib.image.AxesImage at 0x7f9db929b510>"
      ]
     },
     "execution_count": 52,
     "metadata": {},
     "output_type": "execute_result"
    },
    {
     "data": {
      "image/png": "[encoded data removed]",
      "text/plain": [
       "<Figure size 360x288 with 1 Axes>"
      ]
     },
     "metadata": {
      "needs_background": "light"
     },
     "output_type": "display_data"
    }
   ],
   "source": [
    "plt.matshow(np.reshape(h,(Nf,Nlags)))"
   ]
  },
  {
   "cell_type": "code",
   "execution_count": 53,
   "metadata": {},
   "outputs": [
    {
     "data": {
      "text/plain": [
       "<matplotlib.image.AxesImage at 0x7f9db91fac10>"
      ]
     },
     "execution_count": 53,
     "metadata": {},
     "output_type": "execute_result"
    },
    {
     "data": {
      "image/png": "[encoded data removed]",
      "text/plain": [
       "<Figure size 288x288 with 1 Axes>"
      ]
     },
     "metadata": {
      "needs_background": "light"
     },
     "output_type": "display_data"
    }
   ],
   "source": [
    "plt.matshow(np.reshape(J,(Nf*Nlags,Nf*Nlags)))"
   ]
  },
  {
   "cell_type": "code",
   "execution_count": 54,
   "metadata": {},
   "outputs": [
    {
     "data": {
      "text/plain": [
       "[<matplotlib.lines.Line2D at 0x7f9db91f2890>]"
      ]
     },
     "execution_count": 54,
     "metadata": {},
     "output_type": "execute_result"
    },
    {
     "data": {
      "image/png": "[encoded data removed]",
      "text/plain": [
       "<Figure size 432x288 with 1 Axes>"
      ]
     },
     "metadata": {
      "needs_background": "light"
     },
     "output_type": "display_data"
    }
   ],
   "source": [
    "eigenvalues_sorted = sort(V)\n",
    "plt.plot(eigenvalues_sorted)"
   ]
  },
  {
   "cell_type": "code",
   "execution_count": 55,
   "metadata": {},
   "outputs": [
    {
     "data": {
      "image/png": "[encoded data removed]",
      "text/plain": [
       "<Figure size 432x288 with 9 Axes>"
      ]
     },
     "metadata": {
      "needs_background": "light"
     },
     "output_type": "display_data"
    }
   ],
   "source": [
    "figure()\n",
    "for i in range(9):\n",
    "    subplot(3, 3, i+1)\n",
    "    eig_sorted = D[:,index[i]]\n",
    "    imshow(reshape(eig_sorted,(Nf,Nlags)))"
   ]
  },
  {
   "cell_type": "code",
   "execution_count": null,
   "metadata": {},
   "outputs": [],
   "source": []
  },
  {
   "cell_type": "code",
   "execution_count": null,
   "metadata": {},
   "outputs": [],
   "source": []
  },
  {
   "cell_type": "code",
   "execution_count": null,
   "metadata": {},
   "outputs": [],
   "source": []
  },
  {
   "cell_type": "code",
   "execution_count": null,
   "metadata": {},
   "outputs": [],
   "source": []
  },
  {
   "cell_type": "code",
   "execution_count": null,
   "metadata": {},
   "outputs": [],
   "source": [
    "print(np.shape(np.log(np.array(f0))))"
   ]
  },
  {
   "cell_type": "code",
   "execution_count": null,
   "metadata": {},
   "outputs": [],
   "source": [
    "print(np.shape((1 - np.array(trainresp))))"
   ]
  },
  {
   "cell_type": "code",
   "execution_count": null,
   "metadata": {},
   "outputs": [],
   "source": [
    "p = np.matrix(p)\n",
    "    \n",
    "    #get number of samples and dimensionality of stimulus\n",
    "    Nsamples = np.size(stim,0)\n",
    "    Ndim = np.size(stim,1)\n",
    "    \n",
    "    #unpack p: (var names match names in Fitzgerald paper)\n",
    "    a = p[0,0]\n",
    "    h = p[0,1:Ndim+1]\n",
    "    \n",
    "    #case: second order calculation --> need J\n",
    "    if(order > 1):\n",
    "        J_squash = p[0,Ndim+1:Ndim+2+Ndim**2]   \n",
    "        #reshape J into Ndim x Ndim matrix:\n",
    "        J = np.reshape(J_squash,(Ndim,Ndim)) #matrix?\n",
    "    \n",
    "    if(order == 1):\n",
    "        f1 = 1 + np.exp(a + stim * h.T)\n",
    "        f0 = 1 + np.exp(-a - stim * h.T)\n",
    "    else:\n",
    "        f1 = 1 + np.exp(np.array(np.ones(Nsamples)*a) + np.array(stim * h.T)[:,0] + (np.sum(np.array(stim)*np.array(stim*J),1)))\n",
    "        f0 = 1 + np.exp(-np.array(np.ones(Nsamples)*a) - np.array(stim * h.T)[:,0] - (np.sum(np.array(stim)*np.array(stim*J),1)))\n",
    "    \n",
    "    #print 'f1'\n",
    "    #print f1\n",
    "    F1 = np.array(resp)[:,0] * np.log(np.array(f1))\n",
    "    #print F1\n",
    "    #print 'f0'\n",
    "    #print f0\n",
    "    F0 = (1 - np.array(resp)[:,0]) * np.log(np.array(f0)) \n",
    "    #print F0\n",
    "    F1[np.isnan(F1)] = 0\n",
    "    F0[np.isnan(F0)] = 0\n",
    "    #print 'ave entropy'\n",
    "    #print np.mean(F0 + F1)\n",
    "    return np.mean(F0 + F1)   # f = mean(F0 + F1)"
   ]
  },
  {
   "cell_type": "code",
   "execution_count": null,
   "metadata": {},
   "outputs": [],
   "source": [
    "def dlinmin():\n",
    "    TOL = 2.0e-4\n",
    "    nrfunc = func \n",
    "    nrdfun = dfunc \n",
    "    pcom   = p \n",
    "    xicom  = xi \n",
    "    \n",
    "    ax = 0.0       #Initial guess for brackets\n",
    "    xx = 0.2       #2*rand();%2.0;\n",
    "    \n",
    "    ftemp = @f1dim\n",
    "    ftemp2 = @df1dim\n",
    "    \n",
    "    \n",
    "    \n",
    "    \n"
   ]
  },
  {
   "cell_type": "code",
   "execution_count": null,
   "metadata": {},
   "outputs": [],
   "source": [
    "function [p, xi, fret] = dlinmin(p, xi, func, dfunc, stim, resp, order, avgs)\n",
    " \n",
    "TOL    = 2.0e-4;  % Tolerance passed to brent. \n",
    "\n",
    "global pcom xicom nrfunc nrdfun; \n",
    "nrfunc = func; \n",
    "nrdfun = dfunc; \n",
    "pcom   = p; \n",
    "xicom  = xi; \n",
    " \n",
    "ax     = 0.0;  % Initial guess for brackets. \n",
    "xx     = .2;%2*rand();%2.0; \n",
    "\n",
    "ftemp=@f1dim;\n",
    "ftemp2=@df1dim;\n",
    "\n",
    "[ax, xx, bx, fa1, fc1, fb1] = mnbrak(ax, xx, ftemp, stim, resp, order, avgs);\n",
    "%[ax,xx,bx]\n",
    "%plotalonglinemin(ax,bx,ftemp);\n",
    "[fret, xmin] = dbrent(ax,xx,bx,ftemp,ftemp2,TOL, stim, resp, order, avgs); \n",
    "%xmin\n",
    "%plot([xmin],[fret],'ro','LineWidth',7); \n",
    "%drawnow;\n",
    "%hold off;\n",
    "xi     = xi.*xmin;\n",
    "p      = p + xi;"
   ]
  },
  {
   "cell_type": "code",
   "execution_count": null,
   "metadata": {},
   "outputs": [],
   "source": []
  },
  {
   "cell_type": "code",
   "execution_count": null,
   "metadata": {},
   "outputs": [],
   "source": []
  },
  {
   "cell_type": "code",
   "execution_count": null,
   "metadata": {},
   "outputs": [],
   "source": []
  },
  {
   "cell_type": "code",
   "execution_count": null,
   "metadata": {},
   "outputs": [],
   "source": [
    "from math import *\n",
    "def frprmn():\n",
    "    ITMAX = 1000\n",
    "    fp = eval(func, p, stim, resp, order)\n",
    "    xi = eval(dfunc, p, stim, avgs, order)    \n",
    "    exitCondition = 0\n",
    "    g  = -xi\n",
    "    h  = g\n",
    "    xi = g\n",
    "    besttest = 1000\n",
    "    flist=[]\n",
    "    ftestlist=[]\n",
    "    tally = 0\n",
    "    \n",
    "    # Loop over iterations of minimization\n",
    "    for its in range(ITMAX):\n",
    "        display('Iteration' str(its))\n",
    "        \n",
    "        "
   ]
  },
  {
   "cell_type": "code",
   "execution_count": null,
   "metadata": {},
   "outputs": [],
   "source": [
    "function [pbest, flist, ftestlist] = frprmn(p, func, dfunc, stim, resp, teststim, testresp, order, avgs, fittype)\n",
    "\n",
    "ITMAX = 1000;\n",
    "fp = feval(func, p, stim, resp, order);\n",
    "xi = feval(dfunc, p, stim, avgs, order);\n",
    "exitCondition = 0;\n",
    "g  = -xi;\n",
    "h  = g;\n",
    "xi = g;\n",
    "besttest = 1000;\n",
    "flist=[];\n",
    "ftestlist=[];\n",
    "tally = 0;\n",
    "\n",
    "% Loop over iterations of minimization\n",
    "for its=1:ITMAX,\n",
    "    disp(['Iteration ' num2str(its)]);\n",
    "  \n",
    "    [p, xi, fret] = dlinmin(p, xi, func, dfunc, stim, resp, order, avgs);\n",
    "    flist(its)=fret;\n",
    "    if fittype==0\n",
    "        ftestlist(its)=feval(func, p, teststim, testresp, order);\n",
    "    end\n",
    "    \n",
    "    \n",
    "%    figure(1)\n",
    "%    plot(flist)\n",
    "%    if fittype==0\n",
    "%        hold on\n",
    "%        plot(ftestlist,'r')\n",
    "%        hold off\n",
    "%    end\n",
    "%    drawnow\n",
    "\n",
    "    \n",
    "    if fittype==0\n",
    "        \n",
    "        if ftestlist(its)<besttest*.999999  || its<=2     % train validation test validation overfitting line goes up\n",
    "            besttest = ftestlist(its);\n",
    "            pbest = p;\n",
    "            tally=0;\n",
    "        else\n",
    "            tally = tally+1;\n",
    "        end\n",
    "        \n",
    "        if tally==10 || its==400\n",
    "            disp(tally)\n",
    "            disp(its)\n",
    "            disp('min of test set found');\n",
    "            exitCondition = 1;\n",
    "            break;\n",
    "        end\n",
    "        \n",
    "    else\n",
    "        [Nsamples,Ndim] = size(stim);\n",
    "        J = reshape(p(Ndim+2:Ndim+1+Ndim^2),[Ndim,Ndim]);\n",
    "        [evecs,evals]=eig(J);\n",
    "        [EV,inds] = sort((diag(evals)));\n",
    "        disp(num2str([min(EV) , max(EV)]));\n",
    "        if its==200\n",
    "            pbest = p;\n",
    "            disp('stopping algorithm');\n",
    "            exitCondition = 1;\n",
    "            break;\n",
    "        end\n",
    "    end\n",
    "    \n",
    "    xi = feval(dfunc, p, stim, avgs, order);\n",
    "    gg = sum(g.^2);\n",
    "    dgg = sum( (xi + g).*xi );   % This statement for Polak-Ribiere\n",
    "    % dgg = sum( xi.^2);         % This statement for Fletcher-Reeves\n",
    "    if gg == 0,            % Unlikely.  If gradient is exactly zero then\n",
    "        exitCondition = 2;   % we are already done.\n",
    "        disp('Gradient equal to zero, exiting frprmn.');\n",
    "        break;\n",
    "    end\n",
    "    gam = dgg/gg;\n",
    "    g = -xi;\n",
    "    h = g + gam.*h;\n",
    "    xi = h;\n",
    "end\n",
    "if exitCondition == 0,\n",
    "    disp('Too many iterations in frprmn');\n",
    "end"
   ]
  },
  {
   "cell_type": "code",
   "execution_count": null,
   "metadata": {},
   "outputs": [],
   "source": []
  },
  {
   "cell_type": "code",
   "execution_count": null,
   "metadata": {},
   "outputs": [],
   "source": []
  },
  {
   "cell_type": "code",
   "execution_count": null,
   "metadata": {},
   "outputs": [],
   "source": []
  },
  {
   "cell_type": "code",
   "execution_count": null,
   "metadata": {},
   "outputs": [],
   "source": [
    "order1 = 2\n",
    "pfinal = mnefit(trainstim,trainresp,order1)"
   ]
  },
  {
   "cell_type": "code",
   "execution_count": null,
   "metadata": {},
   "outputs": [],
   "source": [
    "function df = dlogloss(p, stim, avgs, order)\n",
    "\n",
    "[Nsamples,Ndim] = size(stim);\n",
    "\n",
    "ptemp = p(2:Ndim+1);\n",
    "if order>1\n",
    "    J = reshape(p(Ndim+2:Ndim+1+Ndim^2),[Ndim,Ndim]);\n",
    "end\n",
    "\n",
    "if order==1\n",
    "    pSpike = 1./(1+exp(p(1)+stim*ptemp'));  % Nsamples x 1\n",
    "    averages = mean(pSpike);\n",
    "    averages(2:Ndim+1,1) = stim'*pSpike/Nsamples;\n",
    "elseif order==2\n",
    "    pSpike = 1./(1+exp(p(1)+stim*ptemp'+sum(stim.*(stim*J),2)));  % Nsamples x 1\n",
    "    averages = mean(pSpike);\n",
    "    averages(2:Ndim+1,1) = stim'*pSpike./Nsamples;\n",
    "    temp = stim'*(repmat(pSpike,[1,Ndim]).*stim)./Nsamples;  % Ndim x Ndim\n",
    "    temp = reshape(temp,[Ndim^2,1]);\n",
    "    averages(Ndim+2:Ndim+1+Ndim^2) = temp;    \n",
    "end\n",
    "%display(size(pSpike))\n",
    "%display(size(averages))\n",
    "%display(size(avgs))\n",
    "\n",
    "df = (avgs - averages)';  % 1 x Ndim\n",
    "%display(df)"
   ]
  },
  {
   "cell_type": "code",
   "execution_count": null,
   "metadata": {},
   "outputs": [],
   "source": [
    "#import MNEfit as mnefit\n",
    "#import scipy as sp\n",
    "#import scipy.optimize as opt\n",
    "#mport logLossFuncs as LLF\n",
    "#pfinal = opt.fmin_cg(logLoss,pstart,fprime=dlogLoss)"
   ]
  },
  {
   "cell_type": "code",
   "execution_count": null,
   "metadata": {},
   "outputs": [],
   "source": []
  },
  {
   "cell_type": "code",
   "execution_count": null,
   "metadata": {},
   "outputs": [],
   "source": []
  },
  {
   "cell_type": "code",
   "execution_count": null,
   "metadata": {},
   "outputs": [],
   "source": [
    "np.shape((1.0*stim.T*resp)/(Nsamples*1.0))"
   ]
  },
  {
   "cell_type": "code",
   "execution_count": null,
   "metadata": {},
   "outputs": [],
   "source": [
    "\n",
    "\n",
    "\n",
    "#initialize params:\n",
    "pstart = sp.log(1/avgs[0,0] - 1)\n",
    "pstart = sp.hstack((pstart,(.001*(2*sp.random.rand(Ndim)-1))))\n",
    "if(order > 1):\n",
    "    temp = .0005*(2*sp.random.rand(Ndim,Ndim)-1)\n",
    "    pstart = sp.hstack((pstart,sp.reshape(temp+temp.T,(1,Ndim**2))[0]))\n"
   ]
  },
  {
   "cell_type": "code",
   "execution_count": null,
   "metadata": {},
   "outputs": [],
   "source": [
    "b = np.multiply(a,trainstim)"
   ]
  },
  {
   "cell_type": "code",
   "execution_count": null,
   "metadata": {},
   "outputs": [],
   "source": [
    "c = np.dot(np.transpose(trainstim),b)"
   ]
  },
  {
   "cell_type": "code",
   "execution_count": null,
   "metadata": {},
   "outputs": [],
   "source": [
    "np.shape(c)"
   ]
  },
  {
   "cell_type": "code",
   "execution_count": null,
   "metadata": {},
   "outputs": [],
   "source": []
  },
  {
   "cell_type": "code",
   "execution_count": null,
   "metadata": {},
   "outputs": [],
   "source": [
    "np.shape(np.transpose(trainresp)*trainstim)"
   ]
  },
  {
   "cell_type": "code",
   "execution_count": null,
   "metadata": {},
   "outputs": [],
   "source": [
    "#####\n",
    "print(np.shape(trainstim))\n",
    "print(np.shape(teststim))\n",
    "print(np.shape(masterstim))"
   ]
  },
  {
   "cell_type": "code",
   "execution_count": null,
   "metadata": {},
   "outputs": [],
   "source": [
    "##### \n",
    "resp_mean"
   ]
  },
  {
   "cell_type": "code",
   "execution_count": null,
   "metadata": {},
   "outputs": [],
   "source": [
    "def tic():\n",
    "    #Homemade version of matlab tic and toc functions\n",
    "    import time\n",
    "    global startTime_for_tictoc\n",
    "    startTime_for_tictoc = time.time()\n",
    "\n",
    "def toc():\n",
    "    import time\n",
    "    if 'startTime_for_tictoc' in globals():\n",
    "        print (\"Elapsed time is \" + str(time.time() - startTime_for_tictoc) + \" seconds.\")\n",
    "    else:\n",
    "        print (\"Toc: start time not set\")"
   ]
  },
  {
   "cell_type": "code",
   "execution_count": null,
   "metadata": {},
   "outputs": [],
   "source": [
    "for jack in range(njack):    #loop over all njacks to resample and fix outliers in tsne    \n",
    "    Ntest = int(master_samples/njack)    #  rounds the Ntest to the nearest integers \n",
    "    ind = range(jack*Ntest,(jack+1)*Ntest)\n",
    "    teststim = masterstim[jack*Ntest : (jack+1)*Ntest, :]\n",
    "    testresp = masterresp[jack*Ntest : (jack+1)*Ntest]\n",
    "    trainstim = np.delete(masterstim, ind, axis = 0) \n",
    "    trainresp = np.delete(masterresp, ind)\n",
    "    \n",
    "    # Start optimization: look for highest P(resp/stim)=1/(1+exp(a+sh+s^t*J*s)^-1\n",
    "    display('Starting optimization')\n",
    "    tic()\n",
    "    #celltype = '';  #ignore this\n",
    "    \n",
    "    #MNEfit(stim, resp, teststim, testresp, celltype, cellnum, jack, order, Nd, fittype);\n",
    "    [Nsamples_2,Ndim_2] = np.shape(trainstim)\n",
    "    psp = np.mean(trainresp)   #constant parameter a\n",
    "    ??????avg = (np.transpose(trainstim)*trainresp)/Nsamples_2  # h: linear\n",
    "    \n",
    "avg_1 = mean(avg,2); \n",
    "avgs = [psp;avg_1]; % J: non-linear \n",
    "if order>1\n",
    "    avgsqrd = trainstim'*(repmat(trainresp,[1,Ndim_2]).*trainstim)/Nsamples_2;  % Ndim x Ndim (320x320)\n",
    "    avgsqrd = reshape(avgsqrd,[Ndim_2^2,1]); \n",
    "    avgs = [avgs;avgsqrd]; % avgs= [a,h,J]\n",
    "end\n",
    "\n",
    "% Initialize parameters. This is to set a random staring point on optimization curve. \n",
    "\n",
    "pstart = log(1/avgs(1)-1);  %pstart(a)\n",
    "pstart(2:Ndim_2+1) = .001*(2*rand([1,Ndim_2])-1); %pstart(h)\n",
    "if order>1\n",
    "    temp = .001*(2*rand([Ndim_2,Ndim_2])-1); % pstart(J)\n",
    "    pstart(Ndim_2+2:length(pstart)+Ndim_2^2) = reshape((temp+temp'),[1,Ndim_2^2]);\n",
    "    clear temp;\n",
    "end\n",
    "\n",
    "% Run conjugate gradient algorithm \n",
    "%Conjugate= method of optimization to not to miss the min on curve\n",
    "%frprmn= Get derivative to locate the global minima of variables \n",
    "%logloss=Near probability model to a set of binary labeled examples. \n",
    "%dloggloss=Gradient of the log loss function\n",
    "\n",
    "% Pass pstart (intial number) to logloss and dlogloss...for every point to get pfinal\n",
    "pfinal = frprmn(pstart, @logloss, @dlogloss, trainstim, trainresp, teststim, testresp, order, avgs, Nd, fittype);\n",
    "\n",
    "%Save results\n",
    "       \n",
    "save(['B952_P1S1_cell' num2str(cellnum) '_5stims' '_Nlags' num2str(Nlags) '_nfft128_Nf16' '_jack_' num2str(jack) '_of_' num2str(njack) '.mat'],'pfinal');\n",
    "  \n",
    "%end\n",
    "\n",
    "disp(['Optimization took ' num2str(toc/60) ' minutes']);\n",
    "\n",
    "% This a, h,J are coresponding to pbest=min of test set\n",
    "h=pfinal(2:Nlags*Nf+1); % h=2:321\n",
    "\n",
    "J=pfinal(Nlags*Nf+2:end); % this is the covariance matrix J=322:end \n",
    "\n",
    "[V,D] = eig(reshape(J,Nlags*Nf,Nlags*Nf)); %[V,D] = eig(A) produces a diagonal matrix D of eigenvalues and eigenvectors \n",
    "\n",
    "%Plot the results and save the figures\n",
    "figure\n",
    "subplot(3,3,1)\n",
    "imagesc(reshape(h,Nf,Nlags))\n",
    "axis xy\n",
    "title('h')\n",
    "xlabel('t');\n",
    "ylabel('f');\n",
    " \n",
    "subplot(3,3,2)\n",
    "imagesc(reshape(J,Nlags*Nf,Nlags*Nf))\n",
    "axis xy\n",
    "axis square\n",
    "title('J')\n",
    "\n",
    "subplot(3,3,3)\n",
    "eigenvalues = diag(D);\n",
    "[eigenvalues_sorted,index] = sort(eigenvalues); %sorts the elements of eigenvalues in ascending order.\n",
    "plot(eigenvalues_sorted,'o');\n",
    "title('J Eigvalue Matrix')\n",
    "\n",
    "\n",
    "subplot(3,3,4)\n",
    "eig_sorted_1 = V(:,index(1)); \n",
    "imagesc(reshape(eig_sorted_1,Nf,Nlags))\n",
    "axis xy\n",
    "title('eig vect 1')\n",
    "xlabel('t');\n",
    "ylabel('f');\n",
    "\n",
    "subplot(3,3,5)\n",
    "eig_sorted_2=V(:,index(2)); \n",
    "imagesc(reshape(eig_sorted_2,Nf,Nlags))\n",
    "axis xy\n",
    "title('eig vect 2')\n",
    "xlabel('t');\n",
    "ylabel('f');\n",
    "\n",
    "subplot(3,3,6)\n",
    "eig_sorted_3=V(:,index(3)); \n",
    "imagesc(reshape(eig_sorted_3,Nf,Nlags))\n",
    "axis xy\n",
    "title('eig vect 3')\n",
    "xlabel('t');\n",
    "ylabel('f');\n",
    "\n",
    "subplot(3,3,7)\n",
    "eig_sorted_end=V(:,index(end));\n",
    "imagesc(reshape(eig_sorted_end,Nf,Nlags))\n",
    "axis xy\n",
    "title('eig vect end')\n",
    "xlabel('t');\n",
    "ylabel('f');\n",
    "\n",
    "subplot(3,3,8)\n",
    "eig_sorted_end_1=V(:,index(end-1));\n",
    "imagesc(reshape(eig_sorted_end_1,Nf,Nlags))\n",
    "axis xy\n",
    "title('eig vect end-1')\n",
    "xlabel('t');\n",
    "ylabel('f');\n",
    "\n",
    "subplot(3,3,9)\n",
    "eig_sorted_end_2=V(:,index(end-2));\n",
    "imagesc(reshape(eig_sorted_end_2,Nf,Nlags))\n",
    "axis xy\n",
    "title('eig vect end-2')\n",
    "xlabel('t');\n",
    "ylabel('f');\n",
    "\n",
    "figure_name = (['B952_' num2str(cellnum) 'your figure name' '_Nlags' num2str(Nlags) '_nfft128_Nf16' '_jack_' num2str(jack) '_of_' num2str(njack)]); \n",
    "end"
   ]
  },
  {
   "cell_type": "code",
   "execution_count": null,
   "metadata": {},
   "outputs": [],
   "source": []
  },
  {
   "cell_type": "code",
   "execution_count": null,
   "metadata": {},
   "outputs": [],
   "source": []
  },
  {
   "cell_type": "code",
   "execution_count": null,
   "metadata": {},
   "outputs": [],
   "source": [
    "def plot_raster_cell__stim(spikes, trials, clusterID,\n",
    "                          stim, period, rec, fs, ax=None, stim_ref='stim', **kwargs):\n",
    "    stim_trials = trials[trials['stimulus'] == stim]\n",
    "    ntrials = len(stim_trials)\n",
    "    stim_starts = stim_trials['time_samples'].values\n",
    "    stim_ends = stim_trials['stimulus_end'].values\n",
    "    stim_end_seconds = np.unique((stim_ends - stim_starts) / fs)[0]\n",
    "    if stim_ref == 'stim':\n",
    "        window = [period[0], stim_end_seconds + period[1]]\n",
    "    elif stim_ref == 'abs':\n",
    "        window = [period[0], period[1]]\n",
    "    raster_data = []\n",
    "    for trial, start in enumerate(stim_starts):\n",
    "        sptrain = get_spiketrain(rec, start, clusterID, spikes, window, fs)\n",
    "        raster_data.append(sptrain)\n",
    "    ax = do_raster(raster_data, window, [0, stim_end_seconds], ntrials, ax, **kwargs)\n",
    "    return ax"
   ]
  },
  {
   "cell_type": "code",
   "execution_count": null,
   "metadata": {},
   "outputs": [],
   "source": []
  },
  {
   "cell_type": "code",
   "execution_count": null,
   "metadata": {},
   "outputs": [],
   "source": []
  },
  {
   "cell_type": "code",
   "execution_count": null,
   "metadata": {},
   "outputs": [],
   "source": []
  },
  {
   "cell_type": "code",
   "execution_count": null,
   "metadata": {},
   "outputs": [],
   "source": []
  },
  {
   "cell_type": "code",
   "execution_count": null,
   "metadata": {},
   "outputs": [],
   "source": []
  },
  {
   "cell_type": "code",
   "execution_count": null,
   "metadata": {},
   "outputs": [],
   "source": []
  },
  {
   "cell_type": "code",
   "execution_count": null,
   "metadata": {},
   "outputs": [],
   "source": []
  },
  {
   "cell_type": "code",
   "execution_count": null,
   "metadata": {},
   "outputs": [],
   "source": []
  },
  {
   "cell_type": "code",
   "execution_count": null,
   "metadata": {},
   "outputs": [],
   "source": [
    "#"
   ]
  },
  {
   "cell_type": "code",
   "execution_count": null,
   "metadata": {},
   "outputs": [],
   "source": [
    "import scipy.optimize as opt\n",
    "import numpy as np\n",
    "\n",
    "def log_loss(p, stim, resp, order):\n",
    "    #get number of samples and dimensionality of stimulus\n",
    "    Nsamples, Ndim = stim.shape\n",
    "    resp = np.reshape(resp, (-1))\n",
    "    \n",
    "    #unpack p: (var names match names in Fitzgerald paper)\n",
    "    a = p[0]\n",
    "    h = p[1:Ndim+1].T\n",
    "    \n",
    "    #case: second order calculation --> need J\n",
    "    if order > 1:\n",
    "        #reshape J into Ndim x Ndim matrix:\n",
    "        J = np.reshape(p[Ndim+1:Ndim+1+Ndim**2], (Ndim,Ndim)).T\n",
    "    \n",
    "    if order == 1:\n",
    "        f1 = 1 + np.exp( a + stim.dot(h))\n",
    "        f0 = 1 + np.exp(-a - stim.dot(h))\n",
    "    else:\n",
    "        f1 = 1 + np.exp( a + stim.dot(h) + (np.sum(stim * (stim.dot(J)),1)))\n",
    "        f0 = 1 + np.exp(-a - stim.dot(h) - (np.sum(stim * (stim.dot(J)),1)))\n",
    "    \n",
    "    F1 = resp * np.log(f1)\n",
    "    F0 = (1 - resp) * np.log(f0)\n",
    "    F1[np.isnan(F1)] = 0\n",
    "    F0[np.isnan(F0)] = 0\n",
    "    return np.mean(F0 + F1)\n",
    "\n",
    "def d_log_loss(p,stim,avgs,order):\n",
    "    #get number of samples and dimensionality of stimulus\n",
    "    Nsamples, Ndim = stim.shape\n",
    "    \n",
    "    #unpack p: (var names match names in Fitzgerald paper)\n",
    "    a = p[0]\n",
    "    h = p[1:Ndim+1].T\n",
    "    \n",
    "    #case: second order calculation --> need J\n",
    "    if order > 1:\n",
    "        J = np.reshape(p[Ndim+1:Ndim+1+Ndim**2], (Ndim,Ndim))\n",
    "        \n",
    "    if order == 1:\n",
    "        pSpike = 1.0 / (1.0 + np.exp(a + stim.dot(h))) #Nsamples x 1\n",
    "        averages = np.hstack((np.mean(pSpike), stim.T.dot(pSpike) / Nsamples))\n",
    "    elif order == 2:\n",
    "        \n",
    "        pSpike = 1.0 / (1.0 + np.exp(a + stim.dot(h) + (np.sum(stim * (stim.dot(J)),1))))\n",
    "        averages = np.zeros(1+Ndim+Ndim**2)\n",
    "        averages[0] = np.mean(pSpike)\n",
    "        averages[1:Ndim+1] = stim.T.dot(pSpike) / Nsamples #ave number of spikes for each stim dimension\n",
    "        \n",
    "        temp = (stim.T.dot(np.tile(np.reshape(pSpike, (Nsamples, 1)), (1,Ndim)) * stim)) / Nsamples  #ave number of spikes for each stim correlation\n",
    "        temp = np.reshape(temp,[Ndim**2,1])\n",
    "        averages[Ndim+1:Ndim+1+Ndim**2] = np.reshape(temp, Ndim**2)\n",
    "        \n",
    "    return (np.squeeze(avgs) - averages)\n",
    "\n",
    "def constrained_averages(stim, resp, order):\n",
    "    Nsamples, Ndim = stim.shape\n",
    "    psp = np.mean(resp) #spike probability\n",
    "    avg = stim.T.dot(resp) / Nsamples\n",
    "    avgs = np.vstack((psp,avg))\n",
    "    if order > 1 :\n",
    "        avgsqrd = stim.T.dot(np.tile(resp, (1,Ndim)) * stim) / Nsamples\n",
    "        avgsqrd = np.reshape(avgsqrd,(Ndim**2,1))\n",
    "        avgs = np.vstack((avgs,avgsqrd))\n",
    "    return avgs\n",
    "\n",
    "def rand_pstart(avgs, order, Ndim):\n",
    "    pstart = np.log(1.0 / avgs[0] - 1.0)\n",
    "    pstart = np.hstack((pstart,(.001*(2*np.random.rand(Ndim)-1))))\n",
    "    if order > 1:\n",
    "        temp = .0005 * (2 * np.random.rand(Ndim,Ndim) - 1) # for symmetry\n",
    "        pstart = np.hstack((pstart, np.reshape(temp + temp.T, Ndim**2)))\n",
    "    return pstart\n",
    "    \n",
    "class IterCounter(object):\n",
    "    def __init__(self):\n",
    "        self.n_iters = 1\n",
    "        print '{0:5s}'.format('Iters')\n",
    "    def callback(self, xk):\n",
    "        print '{0:5d}'.format(self.n_iters)\n",
    "        self.n_iters += 1\n",
    "    \n",
    "class OverfitException(Exception):\n",
    "    def __init__(self, p):\n",
    "        self.p = p\n",
    "        \n",
    "class OverfitStopper(object):\n",
    "    def __init__(self, test_stim, test_resp, order):\n",
    "        self.test_stim = test_stim\n",
    "        self.test_resp = test_resp\n",
    "        self.order = order\n",
    "        self.n_iters = 1\n",
    "        self.best_ll = np.inf\n",
    "        self.best_p = 0\n",
    "        self.test_tally = 0\n",
    "        print '{0:5s}   {1:5s}   {2:9s}'.format('Iters', 'tally', 'll(test)')\n",
    "        \n",
    "    def callback(self, pk):\n",
    "        ll_test_k = log_loss(pk, self.test_stim, self.test_resp, self.order)\n",
    "        print '{0:5d}   {1:5d}   {2: 3.6f}'.format(self.n_iters, self.test_tally, ll_test_k)\n",
    "        if self.n_iters <= 2 or ll_test_k < self.best_ll:\n",
    "            self.best_ll = ll_test_k\n",
    "            self.best_p = pk\n",
    "            self.test_tally = 0\n",
    "        else:\n",
    "            self.test_tally += 1\n",
    "        \n",
    "        if self.test_tally >= 10:\n",
    "            print 'minimum of test set found'\n",
    "            raise OverfitException(self.best_p)\n",
    "        \n",
    "        self.n_iters += 1\n",
    "\n",
    "def MNEfit(stim, resp, order, pstart=None):\n",
    "\n",
    "    stim = np.array(stim, dtype=float)\n",
    "    resp = np.array(resp, dtype=float)\n",
    "\n",
    "    Nsamples, Ndim = stim.shape\n",
    "    avgs = constrained_averages(stim, resp, order)\n",
    "    \n",
    "    if pstart is None: #initialize params:\n",
    "        pstart = rand_pstart(avgs, order, Ndim)\n",
    "    \n",
    "    #redefine functions with fixed vals:\n",
    "    def logLoss(p):\n",
    "        return log_loss(p, stim, resp, order)\n",
    "    def dlogLoss(p):\n",
    "        return d_log_loss(p, stim, avgs, order)\n",
    "    \n",
    "    pfinal = opt.fmin_cg(logLoss, pstart, fprime=dlogLoss, \n",
    "                         callback=IterCounter().callback, maxiter=200)\n",
    "    \n",
    "    return pfinal\n",
    "\n",
    "def MNEfit_jackknives(stim, resp, order, pstart=None, jackknives=4, shuffle=True):\n",
    "\n",
    "    stim = np.array(stim, dtype=float)\n",
    "    resp = np.array(resp, dtype=float)\n",
    "    \n",
    "    Nsamples, Ndim = stim.shape #TODO: rename Nsamples to n_samples\n",
    "    assert resp.shape[0] == Nsamples\n",
    "    assert resp.shape[1] == 1\n",
    "    \n",
    "    if shuffle:\n",
    "        shuffled_indxs = range(Nsamples)\n",
    "        np.random.shuffle(shuffled_indxs)\n",
    "        stim = stim[shuffled_indxs,:]\n",
    "        resp = resp[shuffled_indxs,:]\n",
    "    \n",
    "    for jackknife in range(jackknives):\n",
    "        test_stim = stim[jackknife::jackknives,:]\n",
    "        test_resp = resp[jackknife::jackknives,:]\n",
    "        train_stim = stim[np.mod(np.arange(Nsamples)-jackknife, jackknives) != 0,:]\n",
    "        train_resp = resp[np.mod(np.arange(Nsamples)-jackknife, jackknives) != 0,:]\n",
    "        \n",
    "        avgs = constrained_averages(train_stim, train_resp, order)\n",
    "\n",
    "        if pstart is None: #initialize params:\n",
    "            pstart = rand_pstart(avgs, order, Ndim)\n",
    "            \n",
    "        #redefine functions with fixed vals:\n",
    "        def logLoss(p):\n",
    "            return log_loss(p, train_stim, train_resp, order)\n",
    "        def dlogLoss(p):\n",
    "            return d_log_loss(p, train_stim, avgs, order)\n",
    "\n",
    "        try:\n",
    "            pfinal = opt.fmin_cg(logLoss, pstart, fprime=dlogLoss,\n",
    "                                 callback=OverfitStopper(test_stim, test_resp, order).callback,\n",
    "                                 maxiter=200)\n",
    "        except OverfitException as e:\n",
    "            pfinal = e.p\n",
    "        \n",
    "        if jackknife == 0:\n",
    "            all_pfinals = np.zeros((jackknives, len(pstart)))\n",
    "        all_pfinals[jackknife, :] = pfinal\n",
    "    \n",
    "    return all_pfinals"
   ]
  }
 ],
 "metadata": {
  "kernelspec": {
   "display_name": "Python 3",
   "language": "python",
   "name": "python3"
  },
  "language_info": {
   "codemirror_mode": {
    "name": "ipython",
    "version": 3
   },
   "file_extension": ".py",
   "mimetype": "text/x-python",
   "name": "python",
   "nbconvert_exporter": "python",
   "pygments_lexer": "ipython3",
   "version": "3.7.5"
  }
 },
 "nbformat": 4,
 "nbformat_minor": 2
}
